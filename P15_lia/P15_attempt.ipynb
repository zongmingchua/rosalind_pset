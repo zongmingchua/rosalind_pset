{
 "cells": [
  {
   "cell_type": "markdown",
   "id": "af81067e-8aef-4252-a1e3-bcda08bb62ca",
   "metadata": {},
   "source": [
    "I showed that all outcomes from G2 generate the same odds ratio as a AaBb x AaBb cross\n",
    "we can thus conclude that simple permutation based on original cross odds ratio will give the solution"
   ]
  },
  {
   "cell_type": "code",
   "execution_count": 7,
   "id": "fad72d38-8434-48d2-98bc-931633fdb073",
   "metadata": {},
   "outputs": [],
   "source": [
    "import math"
   ]
  },
  {
   "cell_type": "code",
   "execution_count": 34,
   "id": "acbeeead-6b20-4d30-b8a5-feb3d4d0ac2a",
   "metadata": {},
   "outputs": [],
   "source": [
    "#find the odds that there will be at least x number of AaBb in 2^n offspring\n",
    "def lia(n, x):\n",
    "    \n",
    "    #number of total offspring \n",
    "    k = 2**n\n",
    "    \n",
    "    #initialize sum\n",
    "    total = 0\n",
    "    \n",
    "    #permutate for count down to x\n",
    "    #each loop will generate odds for number of AaBb at N=k, N=k-1 etc. based on count\n",
    "    count = k\n",
    "    while count >= x:   \n",
    "        \n",
    "        #calculate for each permutation the exponent\n",
    "        exp = math.factorial(k)/math.factorial(k-count)/math.factorial(count)\n",
    "        total += exp*(1/4)**count * (3/4)**(k - count)\n",
    "        \n",
    "        count -=1\n",
    "        \n",
    "    return total\n",
    "        \n",
    "        \n",
    "    "
   ]
  },
  {
   "cell_type": "code",
   "execution_count": 35,
   "id": "173af834-9750-4ac4-b0a2-b41bcd5166fc",
   "metadata": {},
   "outputs": [
    {
     "data": {
      "text/plain": [
       "0.68359375"
      ]
     },
     "execution_count": 35,
     "metadata": {},
     "output_type": "execute_result"
    }
   ],
   "source": [
    "lia(2,1)"
   ]
  },
  {
   "cell_type": "code",
   "execution_count": 36,
   "id": "09da7c75-0287-4651-9cd3-b265aa9eadec",
   "metadata": {},
   "outputs": [
    {
     "data": {
      "text/plain": [
       "0.4526854444021635"
      ]
     },
     "execution_count": 36,
     "metadata": {},
     "output_type": "execute_result"
    }
   ],
   "source": [
    "lia(7,33)"
   ]
  }
 ],
 "metadata": {
  "kernelspec": {
   "display_name": "Python 3 (ipykernel)",
   "language": "python",
   "name": "python3"
  },
  "language_info": {
   "codemirror_mode": {
    "name": "ipython",
    "version": 3
   },
   "file_extension": ".py",
   "mimetype": "text/x-python",
   "name": "python",
   "nbconvert_exporter": "python",
   "pygments_lexer": "ipython3",
   "version": "3.10.9"
  }
 },
 "nbformat": 4,
 "nbformat_minor": 5
}
