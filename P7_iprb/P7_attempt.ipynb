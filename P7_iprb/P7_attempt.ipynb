{
 "cells": [
  {
   "cell_type": "code",
   "execution_count": null,
   "id": "4cdd0c43-f800-439a-8ffb-bd031163ed1f",
   "metadata": {},
   "outputs": [],
   "source": [
    "# for organisms k, m, n in number possessing traits\n",
    "# hom dom, het, hom rec \n",
    "#dom allele offspring is produced by k+k, k+m, k+n, 0.5*(m+n), 0.75(m+m)"
   ]
  },
  {
   "cell_type": "code",
   "execution_count": 13,
   "id": "c3a3c99f-caa1-4bd6-a68d-19ee7f620fb1",
   "metadata": {},
   "outputs": [],
   "source": [
    "k = 2\n",
    "m = 2\n",
    "n = 2"
   ]
  },
  {
   "cell_type": "code",
   "execution_count": 34,
   "id": "29cf6c78-4a17-4b29-87bc-a2d72d90a499",
   "metadata": {},
   "outputs": [],
   "source": [
    "total = k + m + n\n",
    "p_k = k/total * 1  #as k will always produce dom offspring\n",
    "p_m = m/total * (k + n*0.5 + (m-1)*0.75)/(total-1)\n",
    "p_n = n/total * (k + m*0.5)/(total-1)\n",
    "p_sum = p_k + p_m + p_n"
   ]
  },
  {
   "cell_type": "code",
   "execution_count": 35,
   "id": "69012e93-bbfe-4a1a-9736-351345647842",
   "metadata": {},
   "outputs": [
    {
     "name": "stdout",
     "output_type": "stream",
     "text": [
      "0.7793831168831169\n"
     ]
    }
   ],
   "source": [
    "print(p_sum)"
   ]
  },
  {
   "cell_type": "code",
   "execution_count": 32,
   "id": "cdff4637-9d87-45b5-a083-dc79beab3a40",
   "metadata": {},
   "outputs": [],
   "source": [
    "k = 22\n",
    "m = 15\n",
    "n = 19"
   ]
  }
 ],
 "metadata": {
  "kernelspec": {
   "display_name": "Python 3 (ipykernel)",
   "language": "python",
   "name": "python3"
  },
  "language_info": {
   "codemirror_mode": {
    "name": "ipython",
    "version": 3
   },
   "file_extension": ".py",
   "mimetype": "text/x-python",
   "name": "python",
   "nbconvert_exporter": "python",
   "pygments_lexer": "ipython3",
   "version": "3.10.9"
  }
 },
 "nbformat": 4,
 "nbformat_minor": 5
}
