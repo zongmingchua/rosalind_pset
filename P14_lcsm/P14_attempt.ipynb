{
 "cells": [
  {
   "cell_type": "code",
   "execution_count": 4,
   "id": "93486969-a426-40e4-88a6-d510c3dc5c32",
   "metadata": {},
   "outputs": [],
   "source": [
    "#reading in fasta function same as before\n",
    "#taken from P5 solution\n",
    "\n",
    "#takes a filename as input and returns a dictionary \n",
    "#where the keys are sequence IDs and the values are the corresponding sequences\n",
    "def read_fasta(filename):\n",
    "    sequences = {}\n",
    "    with open(filename, \"r\") as fasta_file:\n",
    "        # Initialize variables\n",
    "        sequence_id = None\n",
    "        sequence = \"\"\n",
    "\n",
    "        # Iterate over each line in the file\n",
    "        for line in fasta_file:\n",
    "            # Remove newline character\n",
    "            line = line.strip()\n",
    "\n",
    "            if line.startswith(\">\"):\n",
    "                # This is a header line\n",
    "                if sequence_id is not None:\n",
    "                    # Save the previous sequence\n",
    "                    sequences[sequence_id] = sequence\n",
    "                    sequence = \"\"\n",
    "\n",
    "                # Extract the sequence ID from the header line\n",
    "                sequence_id = line[1:]\n",
    "            else:\n",
    "                # This is a sequence line\n",
    "                sequence += line\n",
    "\n",
    "        # Save the last sequence\n",
    "        if sequence_id is not None:\n",
    "            sequences[sequence_id] = sequence\n",
    "\n",
    "    return sequences\n"
   ]
  },
  {
   "cell_type": "code",
   "execution_count": 7,
   "id": "c21a9685-127e-4930-8648-06db723b4b93",
   "metadata": {},
   "outputs": [],
   "source": [
    "fasta = read_fasta('test.txt')"
   ]
  },
  {
   "cell_type": "code",
   "execution_count": 75,
   "id": "d0f48974-dcba-44dd-a06a-061f1449844a",
   "metadata": {},
   "outputs": [],
   "source": [
    "#obtain all possible substrings of the first fasta sequence\n",
    "def all_subs(str_in):\n",
    "    \n",
    "    #loop over all start and end positions\n",
    "    res = [str_in[i: j] for i in range(len(str_in)) #not my code\n",
    "          for j in range(i + 1, len(str_in) + 1)]\n",
    "    res = list(set(res)) #removes duplicates from the list\n",
    "    return res"
   ]
  },
  {
   "cell_type": "code",
   "execution_count": 174,
   "id": "7fbfa739-92ef-4432-aa08-8143083be810",
   "metadata": {},
   "outputs": [],
   "source": [
    "def lcsm(fasta):\n",
    "    valid_strs = None\n",
    "    \n",
    "    #iterate over fasta seq\n",
    "    for key, value in fasta.items():\n",
    "        new_list = [] #code was looping infinitely as new list was set outside of the for loop...\n",
    "        \n",
    "        #initialize list of accetable substrings with first sequence\n",
    "        if valid_strs == None:\n",
    "            valid_strs = all_subs(value) #had a bug where lack of return function in all_subs was giving None output\n",
    "          \n",
    "        #checks all strs in valid_strs if they are in each new sequence and remove if not \n",
    "        else:\n",
    "            for i in valid_strs:\n",
    "             \n",
    "                #note you should NOT modify the list you are iterating over while inside the iter loop!\n",
    "                #this was a source of great frustration while bug fixing...as we did valid_strs.remove(i)\n",
    "                if i in value:  \n",
    "                    new_list.append(i)\n",
    "                    \n",
    "            #modify valid_strs to new shorter list to reduce compute time        \n",
    "            valid_strs = new_list \n",
    "            \n",
    "    #outputs largest valid string \n",
    "    max_len = 0\n",
    "    for i in valid_strs:\n",
    "        if len(i) >= max_len:\n",
    "            largest_str = i\n",
    "            max_len = len(i)\n",
    "            \n",
    "    print(largest_str, max_len)\n",
    "    #print(new_list)"
   ]
  },
  {
   "cell_type": "code",
   "execution_count": 175,
   "id": "1ac177dc-e300-4b04-a7ff-19c8f9f65131",
   "metadata": {},
   "outputs": [
    {
     "name": "stdout",
     "output_type": "stream",
     "text": [
      "AC 2\n"
     ]
    }
   ],
   "source": [
    "lcsm(fasta)"
   ]
  },
  {
   "cell_type": "code",
   "execution_count": 176,
   "id": "8f0d21e1-cc10-44cb-b796-e81b6c803605",
   "metadata": {},
   "outputs": [],
   "source": [
    "fasta = read_fasta('rosalind_lcsm.txt')"
   ]
  },
  {
   "cell_type": "code",
   "execution_count": 177,
   "id": "a7518928-e1be-46d2-90de-1f288b0d8d48",
   "metadata": {},
   "outputs": [
    {
     "name": "stdout",
     "output_type": "stream",
     "text": [
      "AAGCTATAACTCGCAGAATGATTCCTGAGCGTTTTCGTGTATCTATGGAGAGGTTGCAATAATCGAGTTTCA 72\n"
     ]
    }
   ],
   "source": [
    "lcsm(fasta)"
   ]
  }
 ],
 "metadata": {
  "kernelspec": {
   "display_name": "Python 3 (ipykernel)",
   "language": "python",
   "name": "python3"
  },
  "language_info": {
   "codemirror_mode": {
    "name": "ipython",
    "version": 3
   },
   "file_extension": ".py",
   "mimetype": "text/x-python",
   "name": "python",
   "nbconvert_exporter": "python",
   "pygments_lexer": "ipython3",
   "version": "3.10.9"
  }
 },
 "nbformat": 4,
 "nbformat_minor": 5
}
