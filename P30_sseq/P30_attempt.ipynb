{
 "cells": [
  {
   "cell_type": "code",
   "execution_count": 30,
   "id": "9f48971f-25e6-49f9-9af4-2bf529fb588b",
   "metadata": {},
   "outputs": [],
   "source": [
    "#returns only the first appearance of each base in the sequence based on motif\n",
    "def sseq(seq, motif):\n",
    "    index = []\n",
    "    \n",
    "    #sets the lower bound for finding a base in seq\n",
    "    lower_bound = 0\n",
    "    \n",
    "    #loop over each letter in motif\n",
    "    for base in motif:\n",
    "        idx = seq[lower_bound:].find(base)\n",
    "        index.append(idx+1+lower_bound)\n",
    "        lower_bound += (idx+1)\n",
    "        \n",
    "    return index\n",
    "        \n",
    "    "
   ]
  },
  {
   "cell_type": "code",
   "execution_count": 31,
   "id": "3e929f01-6be7-4beb-9a3c-48e69660d010",
   "metadata": {},
   "outputs": [
    {
     "name": "stdout",
     "output_type": "stream",
     "text": [
      "3 4 5\n"
     ]
    }
   ],
   "source": [
    "x = sseq('ACGTACGTGACG', 'GTA')\n",
    "print(*x)"
   ]
  },
  {
   "cell_type": "code",
   "execution_count": 32,
   "id": "8084d1ae-07dd-41e7-9bc8-7b951fa2e7fb",
   "metadata": {},
   "outputs": [],
   "source": [
    "#reading in fasta function same as before\n",
    "#taken from P5 solution\n",
    "\n",
    "#takes a filename as input and returns a dictionary \n",
    "#where the keys are sequence IDs and the values are the corresponding sequences\n",
    "def read_fasta(filename):\n",
    "    sequences = {}\n",
    "    with open(filename, \"r\") as fasta_file:\n",
    "        # Initialize variables\n",
    "        sequence_id = None\n",
    "        sequence = \"\"\n",
    "\n",
    "        # Iterate over each line in the file\n",
    "        for line in fasta_file:\n",
    "            # Remove newline character\n",
    "            line = line.strip()\n",
    "\n",
    "            if line.startswith(\">\"):\n",
    "                # This is a header line\n",
    "                if sequence_id is not None:\n",
    "                    # Save the previous sequence\n",
    "                    sequences[sequence_id] = sequence\n",
    "                    sequence = \"\"\n",
    "\n",
    "                # Extract the sequence ID from the header line\n",
    "                sequence_id = line[1:]\n",
    "            else:\n",
    "                # This is a sequence line\n",
    "                sequence += line\n",
    "\n",
    "        # Save the last sequence\n",
    "        if sequence_id is not None:\n",
    "            sequences[sequence_id] = sequence\n",
    "\n",
    "    return sequences\n"
   ]
  },
  {
   "cell_type": "code",
   "execution_count": 33,
   "id": "5c73aa11-1e48-42e9-88fe-44ede77ba65c",
   "metadata": {},
   "outputs": [],
   "source": [
    "seqs = read_fasta('rosalind_sseq.txt')"
   ]
  },
  {
   "cell_type": "code",
   "execution_count": 36,
   "id": "13d0aec4-aee7-4c55-bc37-1aeeaf8ed12c",
   "metadata": {},
   "outputs": [
    {
     "data": {
      "text/plain": [
       "{'Rosalind_1833': 'AATTTTGAAATCGCTGGGTGCCATGAGAGATGGACCTTGTTTGACTGACATGGCCATTTGTCTATATTTATCCTGCCCAAGACACCACCCAATCACACGCCGCAGAATACGCGGAGCCTTCGAATATGGTAATAGGATACTAAGGATAGGTTCTACGATGCTCGACTGCACCCTAGTTACGCGTAGGGGATCATAAGATTGAGTGAACCGAAGTTTGGGGCATAACTGCTTTATCTTGACTAATAGACTTTCAACCGTTATGGCCACACCGGCAGAACAAAGCTATTCCCGGAGTCTTTATGGGCTTCACCGATCCATATGTCGGGAAGAGGGGTTGAAACGGCAGAAGCCACTGGGGGCGAGTCCGTCGGGGCGTCCATTATGACTCTTAAACCGAACCGAGGACGGTCGAAATATTATCCGTGGAATTTACAAGGTCAGAAATACGCTGTACGTCCGGTCACTGACCCTACAAGTGATCTTGGAGAGTCTGAGTGACTAATTGTATCCGGATTCGCAATGTTTCTACAGTTGCACGAGAGGATGCGTAGATTTTGTTGGCAGCTCATCACCAATTTGTGGAGAAGTTTTATGGGACAACGAAGTCATGGGTAAAAAGGTTCACTACGTGATAGTACCACGTGACATTTTGGATACTAGAGTCTTTACTTCTAGTTGCTTCTGGTTACGTGAGTTATACAAAAGCAAACAAACGAACTGCCGGTATTGACGGCGGTCGTGGAGGAGTTCTCCGGACGCCATTCTTTGAGCGAGAGCCTTAGAATAGTCATTTGGCCGCCAATGTTTTGTGTGTACCTTTATCGTTTAACTAGACAAAAAGGAG',\n",
       " 'Rosalind_9853': 'GGAGAGACAGAGTTCATCAGGCCGTAACTGATGTAGAGTGATAACAATG'}"
      ]
     },
     "execution_count": 36,
     "metadata": {},
     "output_type": "execute_result"
    }
   ],
   "source": [
    "seqs"
   ]
  },
  {
   "cell_type": "code",
   "execution_count": 35,
   "id": "4adc794d-f46f-4b68-8eec-bfc22cb063f9",
   "metadata": {},
   "outputs": [
    {
     "name": "stdout",
     "output_type": "stream",
     "text": [
      "7 13 23 25 26 27 28 35 44 47 48 52 57 58 62 64 65 72 79 81 99 100 101 102 108 109 115 117 119 122 123 125 128 130 131 135 137 144 147 149 155 159 165 170 171 175 179 184 186\n"
     ]
    }
   ],
   "source": [
    "x = sseq(seqs['Rosalind_1833'], seqs['Rosalind_9853'])\n",
    "print(*x)"
   ]
  }
 ],
 "metadata": {
  "kernelspec": {
   "display_name": "Python 3 (ipykernel)",
   "language": "python",
   "name": "python3"
  },
  "language_info": {
   "codemirror_mode": {
    "name": "ipython",
    "version": 3
   },
   "file_extension": ".py",
   "mimetype": "text/x-python",
   "name": "python",
   "nbconvert_exporter": "python",
   "pygments_lexer": "ipython3",
   "version": "3.10.9"
  }
 },
 "nbformat": 4,
 "nbformat_minor": 5
}
