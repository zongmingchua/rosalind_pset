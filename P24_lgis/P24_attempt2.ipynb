{
 "cells": [
  {
   "cell_type": "markdown",
   "id": "8b13d645-97aa-4765-a313-1fa5b05d553c",
   "metadata": {},
   "source": [
    "Iterating through a list of numbers, for every position there will be one string of numbers that is the longest increasing subsequence (LIS)\n",
    "If the new number in the list is part of this LIS, it will be added to a previously known string of numbers that is either already the longest or tied to longest\n",
    "The new number can also be added to a string that is NOT LIS at that position but will subsequently become the LIS at later position in the list\n",
    "This NOT LIS string may be a substring of the current LIS or some other string of increasing numbers \n",
    "\n",
    "Therefore in this approach, I will store all increasing substrings, adding a new substring whenever a value may be appended to an existing substring in increasing order."
   ]
  },
  {
   "cell_type": "code",
   "execution_count": 52,
   "id": "67b2e682-0c22-488b-966a-6fa40f49136c",
   "metadata": {},
   "outputs": [],
   "source": [
    "def return_longest_increasing_subsequence(arr):\n",
    "    n = len(arr)\n",
    "    \n",
    "    #initialize list with first value in arr\n",
    "    lis = [[arr[0]]]\n",
    "\n",
    "    # Iterate through the array, starting from the second element\n",
    "    for i in range(1, n):\n",
    "        \n",
    "        #add new element to lis\n",
    "        lis.append([arr[i]])\n",
    "        \n",
    "        #Iterate through the list of increasing subsequences \n",
    "        for j in range(0, len(lis)):\n",
    "            \n",
    "            #adds a new subsequence if arr[i] is larger than its last element\n",
    "            if lis[j][len(lis[j])-1] < arr[i]:\n",
    "                \n",
    "                new_ss = lis[j] + [arr[i]]            \n",
    "                lis.append(new_ss)\n",
    "            \n",
    "    # Find the maximum length of increasing subsequence\n",
    "    return max(lis,key=len)\n",
    "\n",
    "    # Find the indices of the longest increasing subsequence\n",
    "    #indices = [i for i in range(n) if lis[i] == max_lis]\n",
    "\n",
    "    # Return the longest increasing subsequence\n",
    "    #return [arr[i] for i in indices]\n"
   ]
  },
  {
   "cell_type": "code",
   "execution_count": null,
   "id": "5ae18ee0-0192-48ce-937f-8693f48a98b3",
   "metadata": {},
   "outputs": [],
   "source": [
    "import random\n",
    "\n",
    "arr = [random.randint(1, 100) for _ in range(100)]"
   ]
  },
  {
   "cell_type": "code",
   "execution_count": 57,
   "id": "4d2948e5-c4a7-402b-a90a-aa22f3345cb2",
   "metadata": {
    "collapsed": true,
    "jupyter": {
     "outputs_hidden": true
    },
    "tags": []
   },
   "outputs": [
    {
     "ename": "KeyboardInterrupt",
     "evalue": "",
     "output_type": "error",
     "traceback": [
      "\u001b[1;31m---------------------------------------------------------------------------\u001b[0m",
      "\u001b[1;31mKeyboardInterrupt\u001b[0m                         Traceback (most recent call last)",
      "Cell \u001b[1;32mIn[57], line 2\u001b[0m\n\u001b[0;32m      1\u001b[0m \u001b[38;5;66;03m# Find the longest increasing subsequence\u001b[39;00m\n\u001b[1;32m----> 2\u001b[0m longest_increasing_subsequence \u001b[38;5;241m=\u001b[39m \u001b[43mreturn_longest_increasing_subsequence\u001b[49m\u001b[43m(\u001b[49m\u001b[43marr\u001b[49m\u001b[43m)\u001b[49m\n\u001b[0;32m      4\u001b[0m \u001b[38;5;66;03m# Print the result\u001b[39;00m\n\u001b[0;32m      5\u001b[0m \u001b[38;5;28mprint\u001b[39m (arr)\n",
      "Cell \u001b[1;32mIn[52], line 17\u001b[0m, in \u001b[0;36mreturn_longest_increasing_subsequence\u001b[1;34m(arr)\u001b[0m\n\u001b[0;32m     13\u001b[0m \u001b[38;5;66;03m#Iterate through the list of increasing subsequences \u001b[39;00m\n\u001b[0;32m     14\u001b[0m \u001b[38;5;28;01mfor\u001b[39;00m j \u001b[38;5;129;01min\u001b[39;00m \u001b[38;5;28mrange\u001b[39m(\u001b[38;5;241m0\u001b[39m, \u001b[38;5;28mlen\u001b[39m(lis)):\n\u001b[0;32m     15\u001b[0m     \n\u001b[0;32m     16\u001b[0m     \u001b[38;5;66;03m#adds a new subsequence if arr[i] is larger than its last element\u001b[39;00m\n\u001b[1;32m---> 17\u001b[0m     \u001b[38;5;28;01mif\u001b[39;00m \u001b[43mlis\u001b[49m\u001b[43m[\u001b[49m\u001b[43mj\u001b[49m\u001b[43m]\u001b[49m\u001b[43m[\u001b[49m\u001b[38;5;28;43mlen\u001b[39;49m\u001b[43m(\u001b[49m\u001b[43mlis\u001b[49m\u001b[43m[\u001b[49m\u001b[43mj\u001b[49m\u001b[43m]\u001b[49m\u001b[43m)\u001b[49m\u001b[38;5;241;43m-\u001b[39;49m\u001b[38;5;241;43m1\u001b[39;49m\u001b[43m]\u001b[49m\u001b[43m \u001b[49m\u001b[38;5;241;43m<\u001b[39;49m\u001b[43m \u001b[49m\u001b[43marr\u001b[49m\u001b[43m[\u001b[49m\u001b[43mi\u001b[49m\u001b[43m]\u001b[49m:\n\u001b[0;32m     19\u001b[0m         new_ss \u001b[38;5;241m=\u001b[39m lis[j] \u001b[38;5;241m+\u001b[39m [arr[i]]            \n\u001b[0;32m     20\u001b[0m         lis\u001b[38;5;241m.\u001b[39mappend(new_ss)\n",
      "\u001b[1;31mKeyboardInterrupt\u001b[0m: "
     ]
    }
   ],
   "source": [
    "# Find the longest increasing subsequence\n",
    "longest_increasing_subsequence = return_longest_increasing_subsequence(arr)\n",
    "\n",
    "# Print the result\n",
    "print (arr)\n",
    "print(longest_increasing_subsequence)\n"
   ]
  },
  {
   "cell_type": "markdown",
   "id": "74771f36-198f-4404-ad66-076f97feb019",
   "metadata": {},
   "source": [
    "The above code still suffers from it requiring a brute force appraoch that increases compute time exponentially and is not efficient.\n",
    "\n",
    "The code below is from ChatGPT\n",
    "The crucial insight here is that the length of the LIS at each index being called MUST include the element at that index, this solves the problem of new LIS coming up\n",
    "\n",
    "Every new LIS at each index must be one larger than a previous LIS at some index unless the element at the index is smaller than all previous elements"
   ]
  },
  {
   "cell_type": "code",
   "execution_count": 45,
   "id": "2d33c172-ab50-4a2a-9c60-0c081b7a9ded",
   "metadata": {
    "tags": []
   },
   "outputs": [],
   "source": [
    "#from ChatGPT\n",
    "def longest_increasing_subsequence(arr):\n",
    "    n = len(arr)\n",
    "    # Initialize a list to store the length of the longest increasing subsequence ending at each index\n",
    "    lis = [1] * n\n",
    "\n",
    "    # Iterate through the array, starting from the second element\n",
    "    for i in range(1, n):\n",
    "        \n",
    "        # Check all the previous elements and update lis[i] if there is a longer increasing subsequence\n",
    "        for j in range(i):\n",
    "            \n",
    "            #at element arr[i] in arr, if a previous element is smaller and the LIS at that previous element is at least the same length as the current LIS, the new LIS is +1 of that LIS\n",
    "            if arr[i] > arr[j] and lis[i] < lis[j] + 1:\n",
    "                lis[i] = lis[j] + 1\n",
    "    \n",
    "    # Find the maximum length of increasing subsequence\n",
    "    max_lis = max(lis)\n",
    "\n",
    "    # Find the longest increasing subsequence\n",
    "    longest_subsequence = []\n",
    "    for i in range(n-1, -1, -1):\n",
    "        if lis[i] == max_lis:\n",
    "            longest_subsequence.append(arr[i])\n",
    "            max_lis -= 1\n",
    "        if max_lis == 0:\n",
    "            break\n",
    "\n",
    "    # Reverse the longest increasing subsequence to get the correct order\n",
    "    longest_subsequence.reverse()\n",
    "\n",
    "    return longest_subsequence\n"
   ]
  },
  {
   "cell_type": "code",
   "execution_count": 46,
   "id": "0d5b19bb-d9d4-4076-bdc5-1483e4aad6d0",
   "metadata": {},
   "outputs": [],
   "source": [
    "def longest_decreasing_subsequence(arr):\n",
    "    n = len(arr)\n",
    "    # Initialize a list to store the length of the longest decreasing subsequence ending at each index\n",
    "    lis = [1] * n\n",
    "\n",
    "    # Iterate through the array, starting from the second element\n",
    "    for i in range(1, n):\n",
    "        \n",
    "        # Check all the previous elements and update lis[i] if there is a longer decreasing subsequence\n",
    "        for j in range(i):\n",
    "            \n",
    "            #at element arr[i] in arr, if a previous element is larger and the LDS at that previous element is at least the same length as the current LDS etc \n",
    "            if arr[i] < arr[j] and lis[i] < lis[j] + 1:\n",
    "                lis[i] = lis[j] + 1\n",
    "    \n",
    "    # Find the maximum length of decreasing subsequence\n",
    "    max_lis = max(lis)\n",
    "\n",
    "    # Find the longest decreasing subsequence\n",
    "    longest_subsequence = []\n",
    "    for i in range(n-1, -1, -1):\n",
    "        if lis[i] == max_lis:\n",
    "            longest_subsequence.append(arr[i])\n",
    "            max_lis -= 1\n",
    "        if max_lis == 0:\n",
    "            break\n",
    "\n",
    "    # Reverse the longest decreasing subsequence to get the correct order\n",
    "    longest_subsequence.reverse()\n",
    "\n",
    "    return longest_subsequence\n"
   ]
  },
  {
   "cell_type": "code",
   "execution_count": 65,
   "id": "c2d8d057-28cd-43d4-8347-cc272d3e980e",
   "metadata": {},
   "outputs": [
    {
     "name": "stdout",
     "output_type": "stream",
     "text": [
      "[1, 2, 3, 1, 2, 3, 4, 5, 6, 7, 8, 9]\n",
      "[10, 11, 12, 1, 2, 3, 4, 5, 6, 7, 8, 9]\n",
      "[1, 2, 3, 4, 5, 6, 7, 8, 9]\n"
     ]
    }
   ],
   "source": [
    "# Find the longest increasing subsequence\n",
    "longest_increasing_subsequence = longest_increasing_subsequence(arr)\n",
    "\n",
    "# Print the result\n",
    "print(longest_increasing_subsequence)"
   ]
  },
  {
   "cell_type": "code",
   "execution_count": 47,
   "id": "64d86889-51c4-4546-8c12-0750a425d0fa",
   "metadata": {},
   "outputs": [],
   "source": [
    "with open('rosalind_lgis.txt') as txt:\n",
    "    content = txt.read().splitlines()\n",
    "    check = 0\n",
    "    \n",
    "    #obtain both lines\n",
    "    for line in content:\n",
    "        if check == 0:\n",
    "            total = int(line) #value is not needed?\n",
    "            check +=1\n",
    "            \n",
    "        else: \n",
    "            numbers = line.split()\n",
    "\n",
    "#make all numbers int\n",
    "arr = []\n",
    "for i in numbers:\n",
    "    arr.append(int(i))"
   ]
  },
  {
   "cell_type": "code",
   "execution_count": 48,
   "id": "1b65aa0c-4526-4aa1-93e4-2cb43e231f65",
   "metadata": {
    "tags": []
   },
   "outputs": [],
   "source": [
    "# Find the longest increasing subsequence\n",
    "longest_increasing_subsequence = longest_increasing_subsequence(arr)"
   ]
  },
  {
   "cell_type": "code",
   "execution_count": 49,
   "id": "f96353fc-d338-4425-9fd9-2f3e41fdc76a",
   "metadata": {},
   "outputs": [],
   "source": [
    "# Find the longest decreasing subsequence\n",
    "longest_decreasing_subsequence = longest_decreasing_subsequence(arr)"
   ]
  },
  {
   "cell_type": "code",
   "execution_count": 50,
   "id": "d6013971-6747-444f-9097-45ffa28f8bfc",
   "metadata": {},
   "outputs": [
    {
     "name": "stdout",
     "output_type": "stream",
     "text": [
      "42 52 68 78 118 120 128 141 146 180 238 324 342 354 364 474 535 569 594 626 632 695 734 750 784 859 890 900 950 955 956 1002 1015 1131 1181 1203 1407 1416 1434 1485 1596 1682 1770 1815 1877 1897 1917 1991 2016 2057 2080 2092 2120 2156 2175 2230 2239 2343 2347 2390 2471 2546 2551 2598 2624 2651 2690 2731 2744 2802 2810 2878 2891 2903 3009 3048 3059 3088 3090 3122 3177 3241 3242 3247 3298 3320 3359 3456 3531 3582 3672 3673 3708 3755 3789 3793 3834 3987 4026 4119 4167 4302 4303 4305 4327 4351 4401 4403 4446 4492 4513 4516 4527 4576 4580 4590 4617 4667 4693 4710 4831 4874 4898 5021 5043 5114 5163 5183 5197 5292 5349 5372 5488 5498 5620 5737 5906 5945 5954 5979 6040 6130 6168 6272 6300 6550 6552 6567 6847 6882 6938 7196 7197 7209 7257 7299 7304 7361 7408 7583 7587 7613 7666 7671 7676 7713 7767 7803 7853 7978 8064 8107 8154 8340 8447 8475 8489 8553 8571 8640 8735 8877 8967 8980 8986 9310\n",
      "9309 9285 9258 9256 9249 9158 9128 9121 9092 9041 8978 8907 8856 8682 8657 8637 8609 8579 8523 8496 8486 8481 8478 8436 8384 8353 8289 8234 8227 8219 8155 8148 8129 8110 8090 7897 7887 7858 7841 7819 7791 7718 7575 7440 7379 7294 7181 7118 7098 7094 6957 6857 6762 6724 6718 6638 6586 6527 6433 6414 6343 6188 6185 6055 5857 5781 5612 5544 5540 5499 5489 5416 5384 5332 5323 5285 5260 5226 5201 5177 5170 5051 4983 4968 4952 4937 4878 4841 4755 4723 4604 4587 4529 4414 4391 4390 4231 4128 4073 4049 4041 4000 3915 3742 3679 3651 3562 3540 3510 3271 3125 3122 3091 3062 2969 2964 2860 2843 2806 2732 2702 2631 2548 2351 2295 2272 2267 2252 2214 2208 2163 2146 2141 2115 2078 2063 1945 1921 1899 1888 1852 1816 1750 1713 1673 1641 1568 1459 1432 1413 1373 1360 1280 1245 1157 1125 1093 1084 980 960 953 949 809 808 798 748 622 577 544 516 479 455 426 391 388 327 326 283 247 242 166 159 150 143 124\n"
     ]
    }
   ],
   "source": [
    "print(*longest_increasing_subsequence)\n",
    "print(*longest_decreasing_subsequence)"
   ]
  }
 ],
 "metadata": {
  "kernelspec": {
   "display_name": "Python 3 (ipykernel)",
   "language": "python",
   "name": "python3"
  },
  "language_info": {
   "codemirror_mode": {
    "name": "ipython",
    "version": 3
   },
   "file_extension": ".py",
   "mimetype": "text/x-python",
   "name": "python",
   "nbconvert_exporter": "python",
   "pygments_lexer": "ipython3",
   "version": "3.10.9"
  }
 },
 "nbformat": 4,
 "nbformat_minor": 5
}
