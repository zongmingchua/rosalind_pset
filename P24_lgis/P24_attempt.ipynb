{
 "cells": [
  {
   "cell_type": "code",
   "execution_count": null,
   "id": "7c0976c5-c15a-4b9d-a5ca-c5ecee0c8bb7",
   "metadata": {},
   "outputs": [],
   "source": [
    "#there is almost certainly a more efficient way of solving this.."
   ]
  },
  {
   "cell_type": "code",
   "execution_count": 1,
   "id": "7e2d10a2-ae91-4568-a5cb-d7f549bca4f3",
   "metadata": {},
   "outputs": [],
   "source": [
    "from itertools import combinations"
   ]
  },
  {
   "cell_type": "code",
   "execution_count": 2,
   "id": "fd41801a-2146-4f79-a9a5-df7694bd3807",
   "metadata": {},
   "outputs": [],
   "source": [
    "with open('test.txt') as txt:\n",
    "    content = txt.read().splitlines()\n",
    "    check = 0\n",
    "    \n",
    "    #obtain both lines\n",
    "    for line in content:\n",
    "        if check == 0:\n",
    "            total = int(line) #value is not needed?\n",
    "            check +=1\n",
    "            \n",
    "        else: \n",
    "            numbers = line.split()"
   ]
  },
  {
   "cell_type": "code",
   "execution_count": 40,
   "id": "ed248cd9-953d-4ee9-bef6-7d48fc791932",
   "metadata": {},
   "outputs": [],
   "source": [
    "#give combinations from 1 to string length (n)\n",
    "\n",
    "def lgis(numbers):\n",
    "    \n",
    "    #final output at the end\n",
    "    increasing_list = [] #list of increasing lists \n",
    "    decreasing_list = [] #list of decreasing lists \n",
    "\n",
    "    \n",
    "    #permutate all possible string lengths starting from 1\n",
    "    for i in range(1, len(numbers)):\n",
    "        perms = combinations(numbers, i)\n",
    "        \n",
    "        #going through each permutation\n",
    "        for perm in perms:\n",
    "             perm_list = list(perm)\n",
    "   \n",
    "             #checks if the order of numbers is increasing\n",
    "             if sorted(perm_list) == perm_list: #it is increasing\n",
    "                 increasing_list.append(perm_list)\n",
    "\n",
    "             elif sorted(perm_list, reverse = True) == perm_list:\n",
    "                 decreasing_list.append(perm_list)\n",
    "                    \n",
    "    #pick the largest string in list\n",
    "    longest_increase = max(increasing_list, key = len)\n",
    "    longest_decrease = max(decreasing_list, key = len)\n",
    "    \n",
    "    #make output the right format \n",
    "    increase = ''\n",
    "    for i in longest_increase:\n",
    "        increase = increase + i + ' '\n",
    "    \n",
    "    decrease = ''\n",
    "    for i in longest_decrease:\n",
    "        decrease = decrease + i + ' '\n",
    "    \n",
    "    return increase, decrease\n",
    "\n"
   ]
  },
  {
   "cell_type": "code",
   "execution_count": 41,
   "id": "a0d70cd6-2245-44d1-bb88-c95722795083",
   "metadata": {},
   "outputs": [
    {
     "data": {
      "text/plain": [
       "('1 2 3 ', '5 4 2 ')"
      ]
     },
     "execution_count": 41,
     "metadata": {},
     "output_type": "execute_result"
    }
   ],
   "source": [
    "lgis (numbers)"
   ]
  },
  {
   "cell_type": "code",
   "execution_count": 42,
   "id": "9a2b7c87-df72-49ea-b0ec-9319f30f5220",
   "metadata": {},
   "outputs": [],
   "source": [
    "with open('rosalind_lgis.txt') as txt:\n",
    "    content = txt.read().splitlines()\n",
    "    check = 0\n",
    "    \n",
    "    #obtain both lines\n",
    "    for line in content:\n",
    "        if check == 0:\n",
    "            total = int(line) #value is not needed?\n",
    "            check +=1\n",
    "            \n",
    "        else: \n",
    "            numbers = line.split()"
   ]
  },
  {
   "cell_type": "code",
   "execution_count": 44,
   "id": "eccec857-8b27-49df-acb1-907741fa9263",
   "metadata": {},
   "outputs": [
    {
     "ename": "KeyboardInterrupt",
     "evalue": "",
     "output_type": "error",
     "traceback": [
      "\u001b[1;31m---------------------------------------------------------------------------\u001b[0m",
      "\u001b[1;31mKeyboardInterrupt\u001b[0m                         Traceback (most recent call last)",
      "Cell \u001b[1;32mIn[44], line 2\u001b[0m\n\u001b[0;32m      1\u001b[0m \u001b[38;5;66;03m#excessive code run time - must modify to complete  \u001b[39;00m\n\u001b[1;32m----> 2\u001b[0m \u001b[43mlgis\u001b[49m\u001b[43m \u001b[49m\u001b[43m(\u001b[49m\u001b[43mnumbers\u001b[49m\u001b[43m)\u001b[49m\n",
      "Cell \u001b[1;32mIn[40], line 23\u001b[0m, in \u001b[0;36mlgis\u001b[1;34m(numbers)\u001b[0m\n\u001b[0;32m     20\u001b[0m              increasing_list\u001b[38;5;241m.\u001b[39mappend(perm_list)\n\u001b[0;32m     22\u001b[0m          \u001b[38;5;28;01melif\u001b[39;00m \u001b[38;5;28msorted\u001b[39m(perm_list, reverse \u001b[38;5;241m=\u001b[39m \u001b[38;5;28;01mTrue\u001b[39;00m) \u001b[38;5;241m==\u001b[39m perm_list:\n\u001b[1;32m---> 23\u001b[0m              \u001b[43mdecreasing_list\u001b[49m\u001b[38;5;241;43m.\u001b[39;49m\u001b[43mappend\u001b[49m\u001b[43m(\u001b[49m\u001b[43mperm_list\u001b[49m\u001b[43m)\u001b[49m\n\u001b[0;32m     25\u001b[0m \u001b[38;5;66;03m#pick the largest string in list\u001b[39;00m\n\u001b[0;32m     26\u001b[0m longest_increase \u001b[38;5;241m=\u001b[39m \u001b[38;5;28mmax\u001b[39m(increasing_list, key \u001b[38;5;241m=\u001b[39m \u001b[38;5;28mlen\u001b[39m)\n",
      "\u001b[1;31mKeyboardInterrupt\u001b[0m: "
     ]
    }
   ],
   "source": [
    "#excessive code run time - must modify to complete  \n",
    "lgis (numbers)"
   ]
  },
  {
   "cell_type": "code",
   "execution_count": 57,
   "id": "409e0400-95ef-4151-b2bc-d1ec14447794",
   "metadata": {
    "jupyter": {
     "source_hidden": true
    },
    "tags": []
   },
   "outputs": [],
   "source": [
    "#modify function lgis to iterate from from 1 to length of string\n",
    "#the final substring is the max of each substring \n",
    "#give combinations from string length (n) to 1\n",
    "\n",
    "def lgis(numbers):\n",
    "    \n",
    "    #final output at the end\n",
    "    increasing_max = None #list of increasing lists \n",
    "    decreasing_max = None #list of decreasing lists \n",
    "\n",
    "    \n",
    "    #permutate all possible string lengths starting l ength of sequence\n",
    "    for i in reversed(range(1, len(numbers))):\n",
    "        perms = combinations(numbers, i)\n",
    "        print (i)\n",
    "        for x in perms:\n",
    "            print(x)\n",
    "        \n",
    "        #going through each permutation\n",
    "        for perm in perms:\n",
    "             perm_list = list(perm)\n",
    "   \n",
    "             #checks if the order of numbers is increasing\n",
    "             if sorted(perm_list) == perm_list and increasing_max is not None: #it is increasing\n",
    "                 increasing_max.append(perm_list)\n",
    "\n",
    "             elif sorted(perm_list, reverse = True) == perm_list and decreasing_max is not None:\n",
    "                 decreasing_max.append(perm_list)\n",
    "            \n",
    "             #breaks if highest found\n",
    "             if increasing_max is not None and decreasing_max is not None:\n",
    "                 break\n",
    "                         \n",
    "    return increasing_max, decreasing_max\n",
    "\n"
   ]
  },
  {
   "cell_type": "code",
   "execution_count": null,
   "id": "d20f118c-cfbe-42c8-b85f-39d6af5a5520",
   "metadata": {},
   "outputs": [],
   "source": [
    "#excessive code run time - must modify to complete  \n",
    "lgis (numbers)"
   ]
  }
 ],
 "metadata": {
  "kernelspec": {
   "display_name": "Python 3 (ipykernel)",
   "language": "python",
   "name": "python3"
  },
  "language_info": {
   "codemirror_mode": {
    "name": "ipython",
    "version": 3
   },
   "file_extension": ".py",
   "mimetype": "text/x-python",
   "name": "python",
   "nbconvert_exporter": "python",
   "pygments_lexer": "ipython3",
   "version": "3.10.9"
  }
 },
 "nbformat": 4,
 "nbformat_minor": 5
}
