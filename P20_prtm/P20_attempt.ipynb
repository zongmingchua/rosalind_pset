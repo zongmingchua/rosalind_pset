{
 "cells": [
  {
   "cell_type": "code",
   "execution_count": 36,
   "id": "e5159f02-9671-4a9b-9b85-84b3d7046172",
   "metadata": {},
   "outputs": [
    {
     "name": "stdout",
     "output_type": "stream",
     "text": [
      "{'A': '71.03711', 'C': '103.00919', 'D': '115.02694', 'E': '129.04259', 'F': '147.06841', 'G': '57.02146', 'H': '137.05891', 'I': '113.08406', 'K': '128.09496', 'L': '113.08406', 'M': '131.04049', 'N': '114.04293', 'P': '97.05276', 'Q': '128.05858', 'R': '156.10111', 'S': '87.03203', 'T': '101.04768', 'V': '99.06841', 'W': '186.07931', 'Y': '163.06333'}\n"
     ]
    }
   ],
   "source": [
    "#reads in protein_mass and outputs dict with value of mass for each aa\n",
    "\n",
    "masses = {}\n",
    "\n",
    "with open('protein_mass.txt') as txt:\n",
    "    content = txt.read().splitlines()\n",
    "    \n",
    "    #for each line adds to dict the aa and its corresponding mass\n",
    "    for line in content:\n",
    "        x = line.split()\n",
    "        masses[x[0]] = x[1]\n",
    "    \n",
    "print (masses)"
   ]
  },
  {
   "cell_type": "code",
   "execution_count": 37,
   "id": "c5f17908-4250-4704-b3bd-92c4c5ba93bb",
   "metadata": {},
   "outputs": [],
   "source": [
    "#takes in a protein sequence string and masses dict and outputs protein mass\n",
    "\n",
    "def prtm (prot, masses):\n",
    "    \n",
    "    mass = 0 \n",
    "    \n",
    "    #loop through each aa in the protein sequence\n",
    "    for aa in prot:\n",
    "        mass += float(masses[aa])\n",
    "    \n",
    "    return mass"
   ]
  },
  {
   "cell_type": "code",
   "execution_count": 38,
   "id": "c43b6cc1-3d3d-401a-b659-db3bfad03c4f",
   "metadata": {},
   "outputs": [
    {
     "data": {
      "text/plain": [
       "821.3919199999999"
      ]
     },
     "execution_count": 38,
     "metadata": {},
     "output_type": "execute_result"
    }
   ],
   "source": [
    "prtm ('SKADYEK', masses)"
   ]
  },
  {
   "cell_type": "code",
   "execution_count": 39,
   "id": "a319ed0b-33be-436c-9b3e-b1ab628b15b3",
   "metadata": {},
   "outputs": [
    {
     "data": {
      "text/plain": [
       "96624.87926000025"
      ]
     },
     "execution_count": 39,
     "metadata": {},
     "output_type": "execute_result"
    }
   ],
   "source": [
    "prtm ('VNRRLWYWIPLGQFDKYWYMFEWYVFAHMCFNSLQCWSVSGENAGVWVSIMKKECIQHWEMYQWMEHNSWMCYFEIKRVYRQQTPNYWFCLNFDRYTNTEAGPYMWQHPGQPHGNQFADRQRYQTPAESYMPGETSWISEQKQNDGWSVTRVTMTRIVDYWHHRFDWSMRYGKTLFYETHKITIQMQLDHQQNYHEPLLSAHATDHKPHIGDLEHEDSDDKNRRAYIKFDESCPDGGDDVPFMNLHEERTKEKRVQDCRGAQAMTLWEHVCGDIAFYNQITKGRMPACLMNEEHCIAAAMLGFNFLIKRHKTHLDEEYHVMMAMHHKVFESSTVMNRCCGTIDCAGYTASMTVWPWWAEPEAEHKKQITWARMRTLLTSGPWDGQCKLHCDFCQTETDLRGVPRNLSYGCPSAGIVFVSGNQWMTSVIDRVNYWQMIVRVKYYPKHEGPEMLDWHKIIIPPYNKEYMSMNNAKHSSPNEDRVGCPHVCERNEFSKEVHPMWILFGIGARALTVEAWQCIKIIHLKVKDCKWELYFWCFQSRTEEAEYTWESSGFFCMQILSQYNYTPSYCDLQCNCQWQLMRIFFQIDGHVVKPYPLRAAGLVWHLERRFVQFNQICVQRVLGPILVNAVILPCPGSWPFYCSYLTAGYSGCTHLSTSFWDLHQIDAYIIAWLKQMNWCQADMQRFAFQKSLRSYTRLNDKLLAPGAWPNDDQICRKNRLDARELELDFWLRIHHICNTVQWDPQFAPMRWYTMYKWMEQNTWTEDIQRMGLFLPHLHGHYSCKPNVCGEQNVNIGPALQIFQRPTRYRS', masses)"
   ]
  }
 ],
 "metadata": {
  "kernelspec": {
   "display_name": "Python 3 (ipykernel)",
   "language": "python",
   "name": "python3"
  },
  "language_info": {
   "codemirror_mode": {
    "name": "ipython",
    "version": 3
   },
   "file_extension": ".py",
   "mimetype": "text/x-python",
   "name": "python",
   "nbconvert_exporter": "python",
   "pygments_lexer": "ipython3",
   "version": "3.10.9"
  }
 },
 "nbformat": 4,
 "nbformat_minor": 5
}
