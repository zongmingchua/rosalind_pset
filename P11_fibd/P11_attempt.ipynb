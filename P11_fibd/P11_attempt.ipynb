{
 "cells": [
  {
   "cell_type": "code",
   "execution_count": null,
   "id": "1ef3291f-1a2e-4f3c-befc-1a66b8de15f6",
   "metadata": {},
   "outputs": [],
   "source": [
    "#highly conceptual problem - good to view solutions of others"
   ]
  },
  {
   "cell_type": "code",
   "execution_count": 1,
   "id": "8ed90468-0e2d-4bfa-8818-712683b89297",
   "metadata": {},
   "outputs": [],
   "source": [
    "#from P4 - getting the next term in a list of fibonacci numbers \n",
    "#for reference ONLY\n",
    "def new_fib(fib_list):\n",
    "    l = len(fib_list)\n",
    "    print(fib_list[l-1]+fib_list[l-2])"
   ]
  },
  {
   "cell_type": "code",
   "execution_count": null,
   "id": "e0d27b50-90cb-4b86-b77e-72eb4a2be81e",
   "metadata": {},
   "outputs": [],
   "source": [
    "#from P4 - gives next number of rabbits from a list based on no. of offspring produced (prod)\n",
    "def new_rab(fib_list, prod):\n",
    "    l = len(fib_list)\n",
    "    return(prod*fib_list[l-2]+fib_list[l-1])"
   ]
  },
  {
   "cell_type": "code",
   "execution_count": 2,
   "id": "04a413da-1b94-40b5-9e07-3d0c081dcaa4",
   "metadata": {
    "tags": []
   },
   "outputs": [],
   "source": [
    "#gives next number of rabbits from a list based on no. of offspring produced (prod) - with rabbit deaths based on lifespan\n",
    "def new_rab2(fib_list, lifespan):\n",
    "    f_len = len(fib_list)\n",
    "    \n",
    "    #while lifespan < length of list, no effect from rabbit deaths\n",
    "    if f_len <= lifespan:\n",
    "        return fib_list[f_len-2] + fib_list[f_len-1] #a little hard to understand conceptually for me\n",
    "    \n",
    "    #intuitive understanding below: \n",
    "    #number of young rabbits at n cycle MUST equal number of rabbits total at n-2 as all those rabbits will be mature and produce one offspring between n-1 and n\n",
    "    #number of mature rabbits at n cycle MUST equal number of rabbits total at n-1 as all those rabbits will continue to be mature at n cycle\n",
    "    #therefore sum(n-1) + sum(n-2) = sum(n)\n",
    "    \n",
    "    #for removing rabbits based on lifespan:\n",
    "    #we must remove based on total mature rabbits that have reached a certain lifespan i.e. those that existed <lifespan> cycles ago\n",
    "    #therefore at the nth cycle we remove the DIFFERENCE between the number of rabbits that existed at the n-lifespan cycle and that of the n-1-lifespan cycle\n",
    "    \n",
    "    #let x be the number of dead rabbits at some n cycle, and l as the lifespan of rabbits\n",
    "    #x = sum(n-l) - sum(n-l-1)\n",
    "    #sum(n) = sum(n-2) - x(n-1) + sum(n-1) - x(n)\n",
    "    \n",
    "    elif f_len-lifespan-1 == 0:\n",
    "        x1 = fib_list[f_len-lifespan] - fib_list[f_len-lifespan-1]\n",
    "        x2 = fib_list[f_len-lifespan-1] - 0\n",
    "        return fib_list[f_len-2] + fib_list[f_len-1] - x1 - x2\n",
    "   \n",
    "    else: \n",
    "        x1 = fib_list[f_len-lifespan] - fib_list[f_len-lifespan-1] #number of old rabbits that WILL die by next cycle, remember index from 0\n",
    "        x2 = fib_list[f_len-lifespan-1] - fib_list[f_len-lifespan-2]\n",
    "        return fib_list[f_len-2] + fib_list[f_len-1] - x1 - x2"
   ]
  },
  {
   "cell_type": "code",
   "execution_count": 3,
   "id": "1123e1d8-51cf-415b-a210-3eb7f781df10",
   "metadata": {},
   "outputs": [],
   "source": [
    "def recur_fib(fib_list, cycle, lifespan):\n",
    "    n = 0\n",
    "    while n < cycle-2:\n",
    "        next_term = new_rab2(fib_list, lifespan)\n",
    "        fib_list.append(next_term)\n",
    "        n+=1\n",
    "    return(fib_list)\n",
    "    "
   ]
  },
  {
   "cell_type": "code",
   "execution_count": 4,
   "id": "58a1b6f0-3eff-4977-8220-3f42650767b7",
   "metadata": {},
   "outputs": [
    {
     "data": {
      "text/plain": [
       "[1, 1, 2, 3, 4, 6]"
      ]
     },
     "execution_count": 4,
     "metadata": {},
     "output_type": "execute_result"
    }
   ],
   "source": [
    "recur_fib([1,1], 6, 3) #results are inaccurate - overestimate"
   ]
  },
  {
   "cell_type": "code",
   "execution_count": 8,
   "id": "14b7e867-8a12-45c1-a88e-657805832a41",
   "metadata": {},
   "outputs": [
    {
     "data": {
      "text/plain": [
       "[1, 1, 2, 2, 3, 4]"
      ]
     },
     "execution_count": 8,
     "metadata": {},
     "output_type": "execute_result"
    }
   ],
   "source": [
    "recur_fib([1,1], 6, 2)"
   ]
  },
  {
   "cell_type": "code",
   "execution_count": 33,
   "id": "16183e9b-daab-4d75-bdf1-c6336def0622",
   "metadata": {},
   "outputs": [],
   "source": [
    "#second attempt, splitting rabbit populations into new and old\n",
    "#number of new rabbits in n cycle is equal to number of old rabbits in n-1\n",
    "#number of old rabbits in n cycle is equal to number of old rabbits in n-1 + young rabbits in n-1\n",
    "#but minus young rabbits in n-l cycle as those have reached max lifespan\n",
    "\n",
    "def new_rab3(lifespan, cycle):\n",
    "    #initialize with one young rabbit at the start, shown is n=2\n",
    "    young = [1, 0]\n",
    "    old = [0, 1]\n",
    "    l = len(young)\n",
    "    \n",
    "    while l < cycle:\n",
    "        \n",
    "        if lifespan > l:\n",
    "            young.append(old[l-1])\n",
    "            old.append(old[l-1] + young[l-1])\n",
    "            \n",
    "        else:\n",
    "            young.append(old[l-1])\n",
    "            old.append(old[l-1] - young[l-lifespan] + young[l-1])\n",
    "        \n",
    "        l = len(young)\n",
    "        \n",
    "    print(young, old)\n",
    "    print(young[l-1] + old[l-1])\n"
   ]
  },
  {
   "cell_type": "code",
   "execution_count": 36,
   "id": "b1d0683a-b7da-4c96-bc30-79322d6f64c2",
   "metadata": {},
   "outputs": [
    {
     "name": "stdout",
     "output_type": "stream",
     "text": [
      "[1, 0, 1, 1, 2, 3, 5, 8, 13, 21, 34, 55, 89, 144, 233, 377, 610, 987, 1596, 2583, 4178, 6760, 10936, 17693, 28624, 46309, 74920, 121208, 196094, 317247, 513252, 830355, 1343374, 2173352, 3516116, 5688481, 9203001, 14888899, 24087722, 38969861, 63046647, 101998815, 165016838, 266969344, 431911262, 698759398, 1130474566, 1828916717, 2958878031, 4786964393, 7744499050, 12529290091, 20270273025, 32793874635, 53054944659, 85833930395, 138864787332, 224659747866, 363461488551, 588019237602, 951315709315, 1539067977573, 2489951775626, 4028320993801, 6517142294861, 10543634371945, 17057817788775, 27596665196327, 44646738486052, 72230874392288, 116857342605315, 189055423122968, 305859710783624, 494829299976197, 800550145972489, 1295154786200820, 2095341470684758, 3389908237647976, 5484298392623419, 8872667562293822, 14354476003141615, 23223115244441636, 37571074105288390, 60783645715358081, 98337662002857696, 159093711053019450, 257386726317391094, 416408206496018256] [0, 1, 1, 2, 3, 5, 8, 13, 21, 34, 55, 89, 144, 233, 377, 610, 987, 1596, 2583, 4178, 6760, 10936, 17693, 28624, 46309, 74920, 121208, 196094, 317247, 513252, 830355, 1343374, 2173352, 3516116, 5688481, 9203001, 14888899, 24087722, 38969861, 63046647, 101998815, 165016838, 266969344, 431911262, 698759398, 1130474566, 1828916717, 2958878031, 4786964393, 7744499050, 12529290091, 20270273025, 32793874635, 53054944659, 85833930395, 138864787332, 224659747866, 363461488551, 588019237602, 951315709315, 1539067977573, 2489951775626, 4028320993801, 6517142294861, 10543634371945, 17057817788775, 27596665196327, 44646738486052, 72230874392288, 116857342605315, 189055423122968, 305859710783624, 494829299976197, 800550145972489, 1295154786200820, 2095341470684758, 3389908237647976, 5484298392623419, 8872667562293822, 14354476003141615, 23223115244441636, 37571074105288390, 60783645715358081, 98337662002857696, 159093711053019450, 257386726317391094, 416408206496018256, 673678075470804035]\n",
      "1090086281966822291\n"
     ]
    }
   ],
   "source": [
    "new_rab3(17,88)"
   ]
  }
 ],
 "metadata": {
  "kernelspec": {
   "display_name": "Python 3 (ipykernel)",
   "language": "python",
   "name": "python3"
  },
  "language_info": {
   "codemirror_mode": {
    "name": "ipython",
    "version": 3
   },
   "file_extension": ".py",
   "mimetype": "text/x-python",
   "name": "python",
   "nbconvert_exporter": "python",
   "pygments_lexer": "ipython3",
   "version": "3.10.9"
  }
 },
 "nbformat": 4,
 "nbformat_minor": 5
}
