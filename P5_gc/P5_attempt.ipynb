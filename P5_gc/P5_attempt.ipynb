{
 "cells": [
  {
   "cell_type": "code",
   "execution_count": 7,
   "id": "e0b7ba99-8f70-490d-9e8f-fb631fe7caf1",
   "metadata": {},
   "outputs": [],
   "source": [
    "import pandas as pd"
   ]
  },
  {
   "cell_type": "code",
   "execution_count": 5,
   "id": "72df7de0-1d87-404d-91d0-c8439887adbb",
   "metadata": {},
   "outputs": [],
   "source": [
    "fa = open('Rosalind.fasta', mode = 'r')\n",
    "lines=fa.readlines()"
   ]
  },
  {
   "cell_type": "code",
   "execution_count": 6,
   "id": "aa60dba4-dfd5-4e89-b30f-4ee58a8b70d8",
   "metadata": {},
   "outputs": [
    {
     "name": "stdout",
     "output_type": "stream",
     "text": [
      "['>Rosalind_6404\\n', 'CCTGCGGAAGATCGGCACTAGAATAGCCAGAACCGTTTCTCTGAGGCTTCCGGCCTTCCC\\n', 'TCCCACTAATAATTCTGAGG\\n', '>Rosalind_5959\\n', 'CCATCGGTAGCGCATCCTTAGTCCAATTAAGTCCCTATCCAGGCGCTCCGCCGAAGGTCT\\n', 'ATATCCATTTGTCAGCAGACACGC\\n', '>Rosalind_0808\\n', 'CCACCCTCGTGGTATGGCTAGGCATTCAGGAACCGGAGAACGCTTCAGACCAGCCCGGAC\\n', 'TGGGAACCTGCGGGCAGTAGGTGGAAT']\n"
     ]
    }
   ],
   "source": [
    "print(lines)"
   ]
  },
  {
   "cell_type": "code",
   "execution_count": 49,
   "id": "38ade6ff-5c23-4835-abf3-f738bba2707e",
   "metadata": {},
   "outputs": [],
   "source": [
    "#takes a filename as input and returns a dictionary \n",
    "#where the keys are sequence IDs and the values are the corresponding sequences\n",
    "def read_fasta(filename):\n",
    "    sequences = {}\n",
    "    with open(filename, \"r\") as fasta_file:\n",
    "        # Initialize variables\n",
    "        sequence_id = None\n",
    "        sequence = \"\"\n",
    "\n",
    "        # Iterate over each line in the file\n",
    "        for line in fasta_file:\n",
    "            # Remove newline character\n",
    "            line = line.strip()\n",
    "\n",
    "            if line.startswith(\">\"):\n",
    "                # This is a header line\n",
    "                if sequence_id is not None:\n",
    "                    # Save the previous sequence\n",
    "                    sequences[sequence_id] = sequence\n",
    "                    sequence = \"\"\n",
    "\n",
    "                # Extract the sequence ID from the header line\n",
    "                sequence_id = line[1:]\n",
    "            else:\n",
    "                # This is a sequence line\n",
    "                sequence += line\n",
    "\n",
    "        # Save the last sequence\n",
    "        if sequence_id is not None:\n",
    "            sequences[sequence_id] = sequence\n",
    "\n",
    "    return sequences\n"
   ]
  },
  {
   "cell_type": "code",
   "execution_count": 50,
   "id": "7042c99e-1908-4291-b225-8ebab87ca2ca",
   "metadata": {},
   "outputs": [
    {
     "data": {
      "text/plain": [
       "{'Rosalind_6404': 'CCTGCGGAAGATCGGCACTAGAATAGCCAGAACCGTTTCTCTGAGGCTTCCGGCCTTCCCTCCCACTAATAATTCTGAGG',\n",
       " 'Rosalind_5959': 'CCATCGGTAGCGCATCCTTAGTCCAATTAAGTCCCTATCCAGGCGCTCCGCCGAAGGTCTATATCCATTTGTCAGCAGACACGC',\n",
       " 'Rosalind_0808': 'CCACCCTCGTGGTATGGCTAGGCATTCAGGAACCGGAGAACGCTTCAGACCAGCCCGGACTGGGAACCTGCGGGCAGTAGGTGGAAT'}"
      ]
     },
     "execution_count": 50,
     "metadata": {},
     "output_type": "execute_result"
    }
   ],
   "source": [
    "fasta = read_fasta('Rosalind.fasta')\n",
    "fasta"
   ]
  },
  {
   "cell_type": "code",
   "execution_count": 51,
   "id": "111a9c98-f7ae-4a5f-9ba0-e4c1b5c4eb75",
   "metadata": {},
   "outputs": [
    {
     "data": {
      "text/plain": [
       "'CCTGCGGAAGATCGGCACTAGAATAGCCAGAACCGTTTCTCTGAGGCTTCCGGCCTTCCCTCCCACTAATAATTCTGAGG'"
      ]
     },
     "execution_count": 51,
     "metadata": {},
     "output_type": "execute_result"
    }
   ],
   "source": [
    "fasta['Rosalind_6404']"
   ]
  },
  {
   "cell_type": "code",
   "execution_count": 31,
   "id": "594a4670-1db0-4e38-9a72-f31a02b5ace5",
   "metadata": {},
   "outputs": [],
   "source": [
    "def GC_calc(seq):\n",
    "    g_count = seq.count('G')\n",
    "    c_count = seq.count('C')\n",
    "    return ((g_count + c_count)/len(seq))"
   ]
  },
  {
   "cell_type": "code",
   "execution_count": 39,
   "id": "f8342b28-3e0a-4a78-a627-0d24db36ef0e",
   "metadata": {},
   "outputs": [
    {
     "name": "stdout",
     "output_type": "stream",
     "text": [
      "Rosalind_6404 0.5375\n",
      "Rosalind_5959 0.5357142857142857\n",
      "Rosalind_0808 0.6091954022988506\n"
     ]
    }
   ],
   "source": [
    "for i in fasta:\n",
    "    print(i, GC_calc(fasta[i]))"
   ]
  },
  {
   "cell_type": "code",
   "execution_count": 38,
   "id": "b96c064c-6603-4211-8895-65c1c2630a6d",
   "metadata": {},
   "outputs": [
    {
     "name": "stdout",
     "output_type": "stream",
     "text": [
      "Rosalind_6404 -> 0.5375\n",
      "Rosalind_5959 -> 0.5357142857142857\n",
      "Rosalind_0808 -> 0.6091954022988506\n"
     ]
    }
   ],
   "source": [
    "for key, value in fasta.items():   #looks neater!\n",
    "    print(key, '->', GC_calc(value))"
   ]
  },
  {
   "cell_type": "code",
   "execution_count": 52,
   "id": "fb90e0b5-7975-47f6-9192-9f626503e07c",
   "metadata": {
    "tags": []
   },
   "outputs": [],
   "source": [
    "fasta = read_fasta('rosalind_gc2.txt')"
   ]
  },
  {
   "cell_type": "code",
   "execution_count": 53,
   "id": "ff7f0d56-c541-49a8-a1dc-96c36d7f1b5c",
   "metadata": {},
   "outputs": [
    {
     "name": "stdout",
     "output_type": "stream",
     "text": [
      "Rosalind_9096 -> 0.5097365406643757\n",
      "Rosalind_7590 -> 0.49266247379454925\n",
      "Rosalind_0402 -> 0.5085470085470085\n",
      "Rosalind_4357 -> 0.5222088835534213\n",
      "Rosalind_8342 -> 0.49309245483528164\n"
     ]
    }
   ],
   "source": [
    "gc_list = []\n",
    "for key, value in fasta.items():   #looks neater!\n",
    "    gc_list.append(GC_calc(value))\n",
    "    print(key, '->', GC_calc(value))"
   ]
  },
  {
   "cell_type": "code",
   "execution_count": 55,
   "id": "79d8c7f0-0ae8-42c2-a855-19fd42bec5bd",
   "metadata": {},
   "outputs": [
    {
     "data": {
      "text/plain": [
       "0.5222088835534213"
      ]
     },
     "execution_count": 55,
     "metadata": {},
     "output_type": "execute_result"
    }
   ],
   "source": [
    "max(gc_list)"
   ]
  }
 ],
 "metadata": {
  "kernelspec": {
   "display_name": "Python 3 (ipykernel)",
   "language": "python",
   "name": "python3"
  },
  "language_info": {
   "codemirror_mode": {
    "name": "ipython",
    "version": 3
   },
   "file_extension": ".py",
   "mimetype": "text/x-python",
   "name": "python",
   "nbconvert_exporter": "python",
   "pygments_lexer": "ipython3",
   "version": "3.10.9"
  }
 },
 "nbformat": 4,
 "nbformat_minor": 5
}
