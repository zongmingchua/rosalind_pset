{
 "cells": [
  {
   "cell_type": "code",
   "execution_count": 3,
   "id": "20acc025-94dc-4e1e-bdf0-2ba2bc00b331",
   "metadata": {},
   "outputs": [],
   "source": [
    "#reading in fasta function same as before\n",
    "#taken from P5 solution\n",
    "\n",
    "#takes a filename as input and returns a dictionary \n",
    "#where the keys are sequence IDs and the values are the corresponding sequences\n",
    "def read_fasta(filename):\n",
    "    sequences = {}\n",
    "    with open(filename, \"r\") as fasta_file:\n",
    "        # Initialize variables\n",
    "        sequence_id = None\n",
    "        sequence = \"\"\n",
    "\n",
    "        # Iterate over each line in the file\n",
    "        for line in fasta_file:\n",
    "            # Remove newline character\n",
    "            line = line.strip()\n",
    "\n",
    "            if line.startswith(\">\"):\n",
    "                # This is a header line\n",
    "                if sequence_id is not None:\n",
    "                    # Save the previous sequence\n",
    "                    sequences[sequence_id] = sequence\n",
    "                    sequence = \"\"\n",
    "\n",
    "                # Extract the sequence ID from the header line\n",
    "                sequence_id = line[1:]\n",
    "            else:\n",
    "                # This is a sequence line\n",
    "                sequence += line\n",
    "\n",
    "        # Save the last sequence\n",
    "        if sequence_id is not None:\n",
    "            sequences[sequence_id] = sequence\n",
    "\n",
    "    return sequences\n"
   ]
  },
  {
   "cell_type": "code",
   "execution_count": 4,
   "id": "cb658d5a-6e2a-4c22-98c4-b72cb4b4d29b",
   "metadata": {},
   "outputs": [],
   "source": [
    "seqs = read_fasta('test.txt')"
   ]
  },
  {
   "cell_type": "code",
   "execution_count": 38,
   "id": "5d9d4459-2ca7-4ddc-b955-8f7b6abd1b78",
   "metadata": {},
   "outputs": [],
   "source": [
    "#from P2\n",
    "def transcribe(dna_in):\n",
    "    rna_out = dna_in.replace(\"T\",\"U\")\n",
    "    return rna_out"
   ]
  },
  {
   "cell_type": "code",
   "execution_count": 13,
   "id": "22a6478b-f00a-4b57-8b9f-cc05cddbb67f",
   "metadata": {},
   "outputs": [],
   "source": [
    "#taken from P3\n",
    "def revc(dna_in):\n",
    "    dna_out = ''\n",
    "    for i in dna_in:\n",
    "        if i == 'A':\n",
    "            dna_out = 'T' + dna_out  \n",
    "        elif i == 'T':\n",
    "            dna_out = 'A' + dna_out\n",
    "        elif i == 'C':\n",
    "            dna_out = 'G' +  dna_out \n",
    "        elif i == 'G':\n",
    "            dna_out = 'C' + dna_out\n",
    "        else:\n",
    "            print ('non-canonical base!')\n",
    "            break\n",
    "\n",
    "    return dna_out    "
   ]
  },
  {
   "cell_type": "code",
   "execution_count": 30,
   "id": "ef500c57-086d-4ba3-8552-63c76f046331",
   "metadata": {},
   "outputs": [],
   "source": [
    "#taken from P8\n",
    "with open('codontable.txt', \"r\") as codon_table:\n",
    "    codons = {} #dict that matches a 3 length string to an amino acid\n",
    "    sequence = None\n",
    "    amino = None\n",
    "    \n",
    "    for line in codon_table:\n",
    "\n",
    "        #calls each element in a line\n",
    "        for i in line.split():\n",
    "            \n",
    "            #if the element is a sequence\n",
    "            if len(i)==3:\n",
    "                sequence = i\n",
    "            \n",
    "            #if the element is an amino acid\n",
    "            elif len(i)==1:\n",
    "                amino = i\n",
    "            \n",
    "            #if the element is a stop codon\n",
    "            elif i=='Stop':\n",
    "                amino = '!Stop'\n",
    "            \n",
    "            else:\n",
    "                print('ERROR unexpected string length: ', i)\n",
    "\n",
    "            #adds to dict \n",
    "            if sequence is not None and amino is not None:\n",
    "                codons[sequence] = amino\n",
    "                sequence = None\n",
    "                amino = None"
   ]
  },
  {
   "cell_type": "code",
   "execution_count": 68,
   "id": "96f5fd7c-8b8e-4cbd-8550-3a9a79a12c16",
   "metadata": {},
   "outputs": [],
   "source": [
    "#also from P8\n",
    "\n",
    "def translate(sequence):\n",
    "    protein_sequence = ''\n",
    "    flag = 0    #to ensure protein has stop codon...\n",
    "    \n",
    "    #for each length three string call an amino acid\n",
    "    for i in range(0,len(sequence),3):\n",
    "        codon = sequence[i:i+3]\n",
    "        \n",
    "        #checks if codon is length 3\n",
    "        if len(codon) == 3:\n",
    "            aa = codons[codon]\n",
    "        \n",
    "        #halt translation at stop codon...\n",
    "        if aa == '!Stop':\n",
    "            flag = 1\n",
    "            break\n",
    "        \n",
    "        else:\n",
    "            protein_sequence += aa\n",
    "        \n",
    "        \n",
    "    if flag == 1:\n",
    "        return protein_sequence\n",
    "    \n",
    "    #returns None if protein has no stop codon - change flag check if it dosnt matter\n",
    "    elif flag == 0:\n",
    "        return None\n",
    "    "
   ]
  },
  {
   "cell_type": "code",
   "execution_count": 48,
   "id": "a697f5d0-dd72-4394-81ca-b5c5f303580d",
   "metadata": {
    "collapsed": true,
    "jupyter": {
     "outputs_hidden": true
    },
    "tags": []
   },
   "outputs": [
    {
     "data": {
      "text/plain": [
       "{'UUU': 'F',\n",
       " 'CUU': 'L',\n",
       " 'AUU': 'I',\n",
       " 'GUU': 'V',\n",
       " 'UUC': 'F',\n",
       " 'CUC': 'L',\n",
       " 'AUC': 'I',\n",
       " 'GUC': 'V',\n",
       " 'UUA': 'L',\n",
       " 'CUA': 'L',\n",
       " 'AUA': 'I',\n",
       " 'GUA': 'V',\n",
       " 'UUG': 'L',\n",
       " 'CUG': 'L',\n",
       " 'AUG': 'M',\n",
       " 'GUG': 'V',\n",
       " 'UCU': 'S',\n",
       " 'CCU': 'P',\n",
       " 'ACU': 'T',\n",
       " 'GCU': 'A',\n",
       " 'UCC': 'S',\n",
       " 'CCC': 'P',\n",
       " 'ACC': 'T',\n",
       " 'GCC': 'A',\n",
       " 'UCA': 'S',\n",
       " 'CCA': 'P',\n",
       " 'ACA': 'T',\n",
       " 'GCA': 'A',\n",
       " 'UCG': 'S',\n",
       " 'CCG': 'P',\n",
       " 'ACG': 'T',\n",
       " 'GCG': 'A',\n",
       " 'UAU': 'Y',\n",
       " 'CAU': 'H',\n",
       " 'AAU': 'N',\n",
       " 'GAU': 'D',\n",
       " 'UAC': 'Y',\n",
       " 'CAC': 'H',\n",
       " 'AAC': 'N',\n",
       " 'GAC': 'D',\n",
       " 'UAA': '!Stop',\n",
       " 'CAA': 'Q',\n",
       " 'AAA': 'K',\n",
       " 'GAA': 'E',\n",
       " 'UAG': '!Stop',\n",
       " 'CAG': 'Q',\n",
       " 'AAG': 'K',\n",
       " 'GAG': 'E',\n",
       " 'UGU': 'C',\n",
       " 'CGU': 'R',\n",
       " 'AGU': 'S',\n",
       " 'GGU': 'G',\n",
       " 'UGC': 'C',\n",
       " 'CGC': 'R',\n",
       " 'AGC': 'S',\n",
       " 'GGC': 'G',\n",
       " 'UGA': '!Stop',\n",
       " 'CGA': 'R',\n",
       " 'AGA': 'R',\n",
       " 'GGA': 'G',\n",
       " 'UGG': 'W',\n",
       " 'CGG': 'R',\n",
       " 'AGG': 'R',\n",
       " 'GGG': 'G'}"
      ]
     },
     "execution_count": 48,
     "metadata": {},
     "output_type": "execute_result"
    }
   ],
   "source": [
    "codons"
   ]
  },
  {
   "cell_type": "code",
   "execution_count": 69,
   "id": "6d79b079-1ee7-42fb-879e-03ff851a4433",
   "metadata": {},
   "outputs": [],
   "source": [
    "#function that takes in the output of read fasta (for any number of fasta seqs) and outputs the fasta name alongside all possible protein seqs based on ORF and STOP sites\n",
    "\n",
    "def orf(fasta_dict):\n",
    "    \n",
    "    #making protein list to ensure only distinct protein seqs are printed\n",
    "    protein_list = []\n",
    "    \n",
    "    #iterate over all seqs in fasta file\n",
    "    for fasta_name, seq in fasta_dict.items():\n",
    "        \n",
    "        seq_revc = revc(seq)\n",
    "        protein = None #change to prot seq when methionine is encountered\n",
    "        \n",
    "        #translate DNA strings into RNA strings \n",
    "        RNA = transcribe(seq)\n",
    "        RNA_revc = transcribe(seq_revc)\n",
    "        \n",
    "        \n",
    "        #iterate over all codons in seq to determine if any are M\n",
    "        for i in range(0, len(RNA)-2):\n",
    "   \n",
    "            #checks if codon matches methionine\n",
    "            if codons[RNA[i:i+3]] == 'M':\n",
    "                protein = translate(RNA[i:])\n",
    "                \n",
    "                #returns only proteins with STOP codons\n",
    "                if protein is not None and protein not in protein_list:\n",
    "                    protein_list.append(protein)\n",
    "                \n",
    "        #iterate over all codons in revc seq to determine if any are M\n",
    "        for i in range(0, len(RNA_revc)-2):\n",
    "            \n",
    "            #checks if codon matches methionine\n",
    "            if codons[RNA_revc[i:i+3]] == 'M':\n",
    "                protein = translate(RNA_revc[i:])\n",
    "                \n",
    "                #returns only proteins with STOP codons\n",
    "                if protein is not None and protein not in protein_list:\n",
    "                    protein_list.append(protein)\n",
    "    \n",
    "    #easier to copy output\n",
    "    for i in protein_list:\n",
    "        print (i)\n",
    "    \n",
    "    return protein_list"
   ]
  },
  {
   "cell_type": "code",
   "execution_count": 65,
   "id": "a15f77a7-cbf7-4e26-a2d4-8eed62d7a63d",
   "metadata": {},
   "outputs": [
    {
     "name": "stdout",
     "output_type": "stream",
     "text": [
      "M\n",
      "MGMTPRLGLESLLE\n",
      "MTPRLGLESLLE\n",
      "MLLGSFRLIPKETLIQVAGSSPCNLS\n"
     ]
    },
    {
     "data": {
      "text/plain": [
       "['M', 'MGMTPRLGLESLLE', 'MTPRLGLESLLE', 'MLLGSFRLIPKETLIQVAGSSPCNLS']"
      ]
     },
     "execution_count": 65,
     "metadata": {},
     "output_type": "execute_result"
    }
   ],
   "source": [
    "orf(seqs)"
   ]
  },
  {
   "cell_type": "code",
   "execution_count": 66,
   "id": "0c1b3ee6-11fd-456b-811a-56ca6bb02339",
   "metadata": {},
   "outputs": [],
   "source": [
    "seqs = read_fasta('rosalind_orf.txt')"
   ]
  },
  {
   "cell_type": "code",
   "execution_count": 70,
   "id": "c05cb757-d840-4f28-a932-3d104b450164",
   "metadata": {},
   "outputs": [
    {
     "name": "stdout",
     "output_type": "stream",
     "text": [
      "MNRSNLS\n",
      "M\n",
      "MGRQV\n",
      "MTELAPRPCLADIILPRRGF\n",
      "MPMYHEI\n",
      "MYHEI\n",
      "MTGLADLDVRRRQLKVLSDGRKRR\n",
      "MLVIWYEVTL\n",
      "MEAQLSVCEPGAVSSIVSVMLVLPARGRNQGLESAR\n",
      "MRTRCGIVHSQCHARASSERKKSGS\n",
      "MLVLPARGRNQGLESAR\n",
      "MVITRLRGHMDSMQSSPARPYSQLPVQQPRTQIAGASLLESTRREEIKS\n",
      "MDSMQSSPARPYSQLPVQQPRTQIAGASLLESTRREEIKS\n",
      "MQSSPARPYSQLPVQQPRTQIAGASLLESTRREEIKS\n",
      "MWPRNRVMTIFGLRHLLW\n",
      "MTIFGLRHLLW\n",
      "MT\n",
      "MTLTMDDTAPGSHTDN\n",
      "MDDTAPGSHTDN\n",
      "MNV\n",
      "MSARQGLGANSVMRSASYRPNMLNLNMMAKVRCI\n",
      "MRSASYRPNMLNLNMMAKVRCI\n",
      "MLNLNMMAKVRCI\n",
      "MMAKVRCI\n",
      "MAKVRCI\n",
      "MITLRTRGGVKPRSNFLLSVYAGSLISLAAYGEVGPRDCCTQDKFERFMRI\n",
      "MLGHLYHLQPTARLAHGIAVLKTSLNGS\n",
      "MRI\n"
     ]
    },
    {
     "data": {
      "text/plain": [
       "['MNRSNLS',\n",
       " 'M',\n",
       " 'MGRQV',\n",
       " 'MTELAPRPCLADIILPRRGF',\n",
       " 'MPMYHEI',\n",
       " 'MYHEI',\n",
       " 'MTGLADLDVRRRQLKVLSDGRKRR',\n",
       " 'MLVIWYEVTL',\n",
       " 'MEAQLSVCEPGAVSSIVSVMLVLPARGRNQGLESAR',\n",
       " 'MRTRCGIVHSQCHARASSERKKSGS',\n",
       " 'MLVLPARGRNQGLESAR',\n",
       " 'MVITRLRGHMDSMQSSPARPYSQLPVQQPRTQIAGASLLESTRREEIKS',\n",
       " 'MDSMQSSPARPYSQLPVQQPRTQIAGASLLESTRREEIKS',\n",
       " 'MQSSPARPYSQLPVQQPRTQIAGASLLESTRREEIKS',\n",
       " 'MWPRNRVMTIFGLRHLLW',\n",
       " 'MTIFGLRHLLW',\n",
       " 'MT',\n",
       " 'MTLTMDDTAPGSHTDN',\n",
       " 'MDDTAPGSHTDN',\n",
       " 'MNV',\n",
       " 'MSARQGLGANSVMRSASYRPNMLNLNMMAKVRCI',\n",
       " 'MRSASYRPNMLNLNMMAKVRCI',\n",
       " 'MLNLNMMAKVRCI',\n",
       " 'MMAKVRCI',\n",
       " 'MAKVRCI',\n",
       " 'MITLRTRGGVKPRSNFLLSVYAGSLISLAAYGEVGPRDCCTQDKFERFMRI',\n",
       " 'MLGHLYHLQPTARLAHGIAVLKTSLNGS',\n",
       " 'MRI']"
      ]
     },
     "execution_count": 70,
     "metadata": {},
     "output_type": "execute_result"
    }
   ],
   "source": [
    "orf(seqs)"
   ]
  }
 ],
 "metadata": {
  "kernelspec": {
   "display_name": "Python 3 (ipykernel)",
   "language": "python",
   "name": "python3"
  },
  "language_info": {
   "codemirror_mode": {
    "name": "ipython",
    "version": 3
   },
   "file_extension": ".py",
   "mimetype": "text/x-python",
   "name": "python",
   "nbconvert_exporter": "python",
   "pygments_lexer": "ipython3",
   "version": "3.10.9"
  }
 },
 "nbformat": 4,
 "nbformat_minor": 5
}
