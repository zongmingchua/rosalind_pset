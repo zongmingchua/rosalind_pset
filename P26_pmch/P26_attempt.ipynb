{
 "cells": [
  {
   "cell_type": "markdown",
   "id": "b81090fc-a106-4e7a-9801-15634f4cfe6a",
   "metadata": {},
   "source": [
    "find collection of edges that do not touch\n",
    "for every connection that is made in 2n nodes, the number of remaining unconnected nodes equals to 2n-2\n",
    "2n nodes has 2n-1 ways to connect\n",
    "2n-2 nodes has 2n-3 ways to connect etc\n",
    "\n",
    "AU pairings are independent of CG pairings and each can be calculated individually\n",
    "given A = U and C = G in sequence,\n",
    "let a = No. of A and c = No. of C\n",
    "number of perfect matchings is a(a-1)..(1) * c(c-1)...(1)"
   ]
  },
  {
   "cell_type": "code",
   "execution_count": 2,
   "id": "ace2ce88-23ec-4b04-94ad-312608159c2a",
   "metadata": {},
   "outputs": [],
   "source": [
    "test = 'AGCUAGUCAU'"
   ]
  },
  {
   "cell_type": "code",
   "execution_count": 3,
   "id": "b21d710e-81ad-4674-be0c-434ff582874a",
   "metadata": {},
   "outputs": [
    {
     "name": "stdout",
     "output_type": "stream",
     "text": [
      "3 2\n"
     ]
    }
   ],
   "source": [
    "a = test.count('A')\n",
    "c = test.count('C')\n",
    "print (a,c)"
   ]
  },
  {
   "cell_type": "code",
   "execution_count": 7,
   "id": "80b36637-8df5-4651-92b5-2dd0a73c93a3",
   "metadata": {},
   "outputs": [],
   "source": [
    "#takes in number of A / U and C / G in sequence and returns number of possible perfect matchings \n",
    "def pmch(a,c):\n",
    "    a_prod = 1\n",
    "    c_prod = 1\n",
    "    \n",
    "    #iterate over As\n",
    "    while a > 1:\n",
    "        a_prod = a_prod*a\n",
    "        a -=1\n",
    "        \n",
    "    #iterate over Cs\n",
    "    while c > 1:\n",
    "        c_prod = c_prod*c\n",
    "        c -=1\n",
    "        \n",
    "    return a_prod*c_prod\n",
    "    "
   ]
  },
  {
   "cell_type": "code",
   "execution_count": 8,
   "id": "ba4ef046-2c4d-406f-9fa8-acd5d21a0bd5",
   "metadata": {},
   "outputs": [
    {
     "data": {
      "text/plain": [
       "12"
      ]
     },
     "execution_count": 8,
     "metadata": {},
     "output_type": "execute_result"
    }
   ],
   "source": [
    "pmch(a,c)"
   ]
  }
 ],
 "metadata": {
  "kernelspec": {
   "display_name": "Python 3 (ipykernel)",
   "language": "python",
   "name": "python3"
  },
  "language_info": {
   "codemirror_mode": {
    "name": "ipython",
    "version": 3
   },
   "file_extension": ".py",
   "mimetype": "text/x-python",
   "name": "python",
   "nbconvert_exporter": "python",
   "pygments_lexer": "ipython3",
   "version": "3.10.9"
  }
 },
 "nbformat": 4,
 "nbformat_minor": 5
}
