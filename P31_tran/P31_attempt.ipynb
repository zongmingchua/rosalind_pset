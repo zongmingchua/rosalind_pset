{
 "cells": [
  {
   "cell_type": "code",
   "execution_count": 17,
   "id": "e6de9703-1cde-48cf-aa4c-a74d0ee0d316",
   "metadata": {},
   "outputs": [],
   "source": [
    "#reading in fasta function same as before\n",
    "#taken from P5 solution\n",
    "\n",
    "#takes a filename as input and returns a dictionary \n",
    "#where the keys are sequence IDs and the values are the corresponding sequences\n",
    "def read_fasta(filename):\n",
    "    sequences = {}\n",
    "    with open(filename, \"r\") as fasta_file:\n",
    "        # Initialize variables\n",
    "        sequence_id = None\n",
    "        sequence = \"\"\n",
    "\n",
    "        # Iterate over each line in the file\n",
    "        for line in fasta_file:\n",
    "            # Remove newline character\n",
    "            line = line.strip()\n",
    "\n",
    "            if line.startswith(\">\"):\n",
    "                # This is a header line\n",
    "                if sequence_id is not None:\n",
    "                    # Save the previous sequence\n",
    "                    sequences[sequence_id] = sequence\n",
    "                    sequence = \"\"\n",
    "\n",
    "                # Extract the sequence ID from the header line\n",
    "                sequence_id = line[1:]\n",
    "            else:\n",
    "                # This is a sequence line\n",
    "                sequence += line\n",
    "\n",
    "        # Save the last sequence\n",
    "        if sequence_id is not None:\n",
    "            sequences[sequence_id] = sequence\n",
    "\n",
    "    return sequences\n"
   ]
  },
  {
   "cell_type": "code",
   "execution_count": 36,
   "id": "56c96b5f-9da0-4d6d-b5e1-e57450ded880",
   "metadata": {},
   "outputs": [],
   "source": [
    "#takes in two sequences and outputs their transition/transversion ratio\n",
    "#does not check if sequences are identical - will return divide by zero error if so\n",
    "\n",
    "def tran(seq1, seq2):\n",
    "    \n",
    "    #initialize counts\n",
    "    transitions = 0 # A - G OR C - T only\n",
    "    transversions = 0 #all others \n",
    "    \n",
    "    if len(seq1) != len(seq2):\n",
    "        print ('sequence lengths not equal!')\n",
    "    \n",
    "    for i in range(0, len(seq1)):\n",
    "        \n",
    "        #checks if bases are the same\n",
    "        if seq1[i] != seq2[i]:\n",
    "            \n",
    "            if seq1[i] in {'A', 'G'} and seq2[i] in {'A', 'G'}:\n",
    "                \n",
    "                transitions +=1\n",
    "                \n",
    "            elif seq1[i] in {'C', 'T'} and seq2[i] in {'C', 'T'}:\n",
    "                \n",
    "                transitions +=1\n",
    "                           \n",
    "            else:\n",
    "                \n",
    "                transversions +=1\n",
    "    \n",
    "    return transitions / transversions \n",
    "        "
   ]
  },
  {
   "cell_type": "code",
   "execution_count": 32,
   "id": "b09847d6-2a2e-4735-84a9-9882bb9d8cb2",
   "metadata": {},
   "outputs": [],
   "source": [
    "x = read_fasta('test.txt')"
   ]
  },
  {
   "cell_type": "code",
   "execution_count": 37,
   "id": "cc9ac5ed-7f29-49bc-acc9-d5645032d965",
   "metadata": {},
   "outputs": [
    {
     "data": {
      "text/plain": [
       "1.2142857142857142"
      ]
     },
     "execution_count": 37,
     "metadata": {},
     "output_type": "execute_result"
    }
   ],
   "source": [
    "tran(x['Rosalind_0209'], x['Rosalind_2200'])"
   ]
  },
  {
   "cell_type": "code",
   "execution_count": 38,
   "id": "23a5686a-1992-495f-8e1b-2dffa14c8bdf",
   "metadata": {},
   "outputs": [],
   "source": [
    "x = read_fasta('rosalind_tran.txt')"
   ]
  },
  {
   "cell_type": "code",
   "execution_count": 40,
   "id": "ef7877b0-bdf8-446a-8b71-9f125de5d6cb",
   "metadata": {},
   "outputs": [
    {
     "data": {
      "text/plain": [
       "2.21505376344086"
      ]
     },
     "execution_count": 40,
     "metadata": {},
     "output_type": "execute_result"
    }
   ],
   "source": [
    "tran(x['Rosalind_6569'], x['Rosalind_9831'])"
   ]
  }
 ],
 "metadata": {
  "kernelspec": {
   "display_name": "Python 3 (ipykernel)",
   "language": "python",
   "name": "python3"
  },
  "language_info": {
   "codemirror_mode": {
    "name": "ipython",
    "version": 3
   },
   "file_extension": ".py",
   "mimetype": "text/x-python",
   "name": "python",
   "nbconvert_exporter": "python",
   "pygments_lexer": "ipython3",
   "version": "3.10.9"
  }
 },
 "nbformat": 4,
 "nbformat_minor": 5
}
