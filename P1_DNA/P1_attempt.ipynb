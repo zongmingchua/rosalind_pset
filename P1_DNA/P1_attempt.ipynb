{
 "cells": [
  {
   "cell_type": "code",
   "execution_count": 1,
   "id": "fc7d5537-61c7-4fd1-a780-868a6b04d570",
   "metadata": {},
   "outputs": [],
   "source": [
    "s = \"CGATCGCATCGACATGCATGCATAGTAGAT\""
   ]
  },
  {
   "cell_type": "code",
   "execution_count": 6,
   "id": "a3e9b897-33f8-4c15-b595-bfd635f46823",
   "metadata": {},
   "outputs": [],
   "source": [
    "def count_base(in_string):\n",
    "    a_count = in_string.count('A')\n",
    "    c_count = in_string.count('C')\n",
    "    t_count = in_string.count('T')\n",
    "    g_count = in_string.count('G')\n",
    "    print(a_count, c_count, g_count, t_count)\n",
    "    "
   ]
  },
  {
   "cell_type": "code",
   "execution_count": 8,
   "id": "ee760a2d-573a-4c2f-865a-0c6156ba2595",
   "metadata": {},
   "outputs": [],
   "source": [
    "s = \"GATAGTGACGTATGCCCCTGCCCTTCTCCCTAGGGGCGGGAGCGACCGCAAGTGCCGGTCGACCTGCAGCGGTACTTCATGTTTAATTTAAAATAAGTAATTAATTATTAGGTGGATGCGTGCACTGTGTGGGAAGCCGCGCCCGCGAGCCGATGTCTACCTCAAACCTACAGAGCGTGCCCAGCATTCGCGCAGTCAATCGCTAATACCTGTGTGCCAGCTATCTCAACTGTCTTGAAAGTCAACATACGCAACAAGGATCGCTGGGATCGTGGCGCCGCATAAATCCGCTGTTCGTGTAAATTCCGATGCGATCAGTCGGATAGTACCCACTTTGATCGAGACTTTTAAGATTCACTATGCCAAGGGTTACCGTTAAGCTAGATGCTCAGTTGCTAGGGCTCTAGAGTAAACATCAACTACGGCTAGTCCGGCCGCGGGAGAGGCATAAGGGTAGGCCATAGAATCTCGGATGCTGCAGATCGAACTGGCCCTTCAGACGTACGCCTGACCAGAATATAGGCCGATCCGTCAATGACGTAAGAACGAGCACGCCCAGGGCGTCCTGCCTGGTACTTCACGCGTGATAAGCCTCCGCCTTAACATAGATTAAAAGTTGTCGAACCCGTCGTCCCTGGATAACGTGTTGACGTTTAGGGCCTTATGGAAACGCCGAACTCTAGTTATTAATTTGGAGGAACATAGAGATTTGTTTGCTTATCAGTGTAAAAATATTACCCACCCTCTCCCTCGTCCGTCCATTAACTTTATCGTAGGTTTTATACCGGTGTGAATGATGTTACATTTTGTAGAGCGACCACAGCCCGTCTATGGACCACGATCCGCGGTAACTTGGTTCGAAGATTGCAAGAATATATGAGGATGGTCCAGTGTACGTAAATGTCATGAGTCATG\""
   ]
  },
  {
   "cell_type": "code",
   "execution_count": 9,
   "id": "2ba332a3-c2ec-4d49-85bf-4720d8c18c55",
   "metadata": {},
   "outputs": [
    {
     "name": "stdout",
     "output_type": "stream",
     "text": [
      "231 223 229 232\n"
     ]
    }
   ],
   "source": [
    "count_base(s)"
   ]
  }
 ],
 "metadata": {
  "kernelspec": {
   "display_name": "Python 3 (ipykernel)",
   "language": "python",
   "name": "python3"
  },
  "language_info": {
   "codemirror_mode": {
    "name": "ipython",
    "version": 3
   },
   "file_extension": ".py",
   "mimetype": "text/x-python",
   "name": "python",
   "nbconvert_exporter": "python",
   "pygments_lexer": "ipython3",
   "version": "3.10.9"
  }
 },
 "nbformat": 4,
 "nbformat_minor": 5
}
