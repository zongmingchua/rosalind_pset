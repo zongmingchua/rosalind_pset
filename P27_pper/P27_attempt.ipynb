{
 "cells": [
  {
   "cell_type": "markdown",
   "id": "f5251073-037a-4aca-b554-5d4f3587f4a5",
   "metadata": {},
   "source": [
    "assuming each object is unique,\n",
    "in n objects, there are n(n-1)..(n-k+1) ways to arrange them"
   ]
  },
  {
   "cell_type": "code",
   "execution_count": 7,
   "id": "83d91840-4623-4045-a49a-9f0b2be79882",
   "metadata": {},
   "outputs": [],
   "source": [
    "#takes in 2 values : n is number of objs and k is size of subset to permutate\n",
    "#returns number of permutations module 1 mil\n",
    "def pper(n,k):\n",
    "    \n",
    "    s = 1\n",
    "    prod = n\n",
    "    while k > 0:\n",
    "        s = s*prod\n",
    "        prod -=1\n",
    "        k-=1\n",
    "    \n",
    "    return s%1000000"
   ]
  },
  {
   "cell_type": "code",
   "execution_count": 8,
   "id": "766d1f3d-dc86-41a6-9c07-dea46b27b78a",
   "metadata": {},
   "outputs": [
    {
     "data": {
      "text/plain": [
       "51200"
      ]
     },
     "execution_count": 8,
     "metadata": {},
     "output_type": "execute_result"
    }
   ],
   "source": [
    "pper(21,7)"
   ]
  },
  {
   "cell_type": "code",
   "execution_count": 9,
   "id": "932ecce7-4d02-4987-a2d8-db4770295fd8",
   "metadata": {},
   "outputs": [
    {
     "data": {
      "text/plain": [
       "350080"
      ]
     },
     "execution_count": 9,
     "metadata": {},
     "output_type": "execute_result"
    }
   ],
   "source": [
    "pper(84,8)"
   ]
  }
 ],
 "metadata": {
  "kernelspec": {
   "display_name": "Python 3 (ipykernel)",
   "language": "python",
   "name": "python3"
  },
  "language_info": {
   "codemirror_mode": {
    "name": "ipython",
    "version": 3
   },
   "file_extension": ".py",
   "mimetype": "text/x-python",
   "name": "python",
   "nbconvert_exporter": "python",
   "pygments_lexer": "ipython3",
   "version": "3.10.9"
  }
 },
 "nbformat": 4,
 "nbformat_minor": 5
}
