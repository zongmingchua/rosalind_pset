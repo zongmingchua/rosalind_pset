{
 "cells": [
  {
   "cell_type": "code",
   "execution_count": 2,
   "id": "35e2c414-86d5-4c1a-ad7b-664ce5d23de5",
   "metadata": {},
   "outputs": [],
   "source": [
    "#taken from P8 solution\n",
    "with open('codontable.txt', \"r\") as codon_table:\n",
    "    codons = {} #dict that matches a 3 length string to an amino acid\n",
    "    sequence = None\n",
    "    amino = None\n",
    "    \n",
    "    for line in codon_table:\n",
    "\n",
    "        #calls each element in a line\n",
    "        for i in line.split():\n",
    "            \n",
    "            #if the element is a sequence\n",
    "            if len(i)==3:\n",
    "                sequence = i\n",
    "            \n",
    "            #if the element is an amino acid\n",
    "            elif len(i)==1:\n",
    "                amino = i\n",
    "            \n",
    "            #if the element is a stop codon\n",
    "            elif i=='Stop':\n",
    "                amino = '!Stop'\n",
    "            \n",
    "            else:\n",
    "                print('ERROR unexpected string length: ', i)\n",
    "\n",
    "            #adds to dict \n",
    "            if sequence is not None and amino is not None:\n",
    "                codons[sequence] = amino\n",
    "                sequence = None\n",
    "                amino = None"
   ]
  },
  {
   "cell_type": "code",
   "execution_count": 10,
   "id": "dbb01d63-f4df-4da8-8408-d3f2b2b41fc6",
   "metadata": {
    "collapsed": true,
    "jupyter": {
     "outputs_hidden": true
    },
    "tags": []
   },
   "outputs": [
    {
     "name": "stdout",
     "output_type": "stream",
     "text": [
      "UUU F\n",
      "CUU L\n",
      "AUU I\n",
      "GUU V\n",
      "UUC F\n",
      "CUC L\n",
      "AUC I\n",
      "GUC V\n",
      "UUA L\n",
      "CUA L\n",
      "AUA I\n",
      "GUA V\n",
      "UUG L\n",
      "CUG L\n",
      "AUG M\n",
      "GUG V\n",
      "UCU S\n",
      "CCU P\n",
      "ACU T\n",
      "GCU A\n",
      "UCC S\n",
      "CCC P\n",
      "ACC T\n",
      "GCC A\n",
      "UCA S\n",
      "CCA P\n",
      "ACA T\n",
      "GCA A\n",
      "UCG S\n",
      "CCG P\n",
      "ACG T\n",
      "GCG A\n",
      "UAU Y\n",
      "CAU H\n",
      "AAU N\n",
      "GAU D\n",
      "UAC Y\n",
      "CAC H\n",
      "AAC N\n",
      "GAC D\n",
      "UAA !Stop\n",
      "CAA Q\n",
      "AAA K\n",
      "GAA E\n",
      "UAG !Stop\n",
      "CAG Q\n",
      "AAG K\n",
      "GAG E\n",
      "UGU C\n",
      "CGU R\n",
      "AGU S\n",
      "GGU G\n",
      "UGC C\n",
      "CGC R\n",
      "AGC S\n",
      "GGC G\n",
      "UGA !Stop\n",
      "CGA R\n",
      "AGA R\n",
      "GGA G\n",
      "UGG W\n",
      "CGG R\n",
      "AGG R\n",
      "GGG G\n"
     ]
    }
   ],
   "source": [
    "for key, value in codons.items():\n",
    "    print(key, value)"
   ]
  },
  {
   "cell_type": "code",
   "execution_count": 18,
   "id": "d5e064f7-cba7-4542-a1c2-574820c9c883",
   "metadata": {},
   "outputs": [],
   "source": [
    "#make a function that outputs a dict with key the amino acid letter and value the number of possible codons for that amino acid\n",
    "#input is a dict matching every codon (key) with its respective amino acid (value)\n",
    "\n",
    "def aa_degen(codons):\n",
    "    output = {}\n",
    "    \n",
    "    #iterate over all matching codon and amino acid pairs \n",
    "    for key, value in codons.items():\n",
    "        \n",
    "        #adds the amino acid if not already in output with initial count of 1\n",
    "        if value not in output:\n",
    "            output[value] = 1\n",
    "            \n",
    "        elif value in output:\n",
    "            output[value] = output[value] + 1\n",
    "         \n",
    "    return output"
   ]
  },
  {
   "cell_type": "code",
   "execution_count": 24,
   "id": "9d34544b-f808-4f3b-8620-981bf3b12214",
   "metadata": {
    "tags": []
   },
   "outputs": [],
   "source": [
    "degen_dict = aa_degen(codons)"
   ]
  },
  {
   "cell_type": "code",
   "execution_count": 26,
   "id": "4d71968c-1371-4c3d-81c7-d38c6f72b4c2",
   "metadata": {},
   "outputs": [
    {
     "data": {
      "text/plain": [
       "{'F': 2,\n",
       " 'L': 6,\n",
       " 'I': 3,\n",
       " 'V': 4,\n",
       " 'M': 1,\n",
       " 'S': 6,\n",
       " 'P': 4,\n",
       " 'T': 4,\n",
       " 'A': 4,\n",
       " 'Y': 2,\n",
       " 'H': 2,\n",
       " 'N': 2,\n",
       " 'D': 2,\n",
       " '!Stop': 3,\n",
       " 'Q': 2,\n",
       " 'K': 2,\n",
       " 'E': 2,\n",
       " 'C': 2,\n",
       " 'R': 6,\n",
       " 'G': 4,\n",
       " 'W': 1}"
      ]
     },
     "execution_count": 26,
     "metadata": {},
     "output_type": "execute_result"
    }
   ],
   "source": [
    "degen_dict"
   ]
  },
  {
   "cell_type": "code",
   "execution_count": 21,
   "id": "8f710796-d6e7-42da-a0ed-4048e30a1841",
   "metadata": {},
   "outputs": [],
   "source": [
    "prot = 'MA'"
   ]
  },
  {
   "cell_type": "code",
   "execution_count": 41,
   "id": "9a5b459e-a96f-4bc6-b087-852be8fc686d",
   "metadata": {},
   "outputs": [],
   "source": [
    "prot = 'MRVEWVTCAWSKTKAECRAIFMRHLAYMDYQCIITPSTWSNPVIVWIQIPMFMAMSHNWAIRPMRIGVIKMYIEQWLNYEDVKEKADKMLDDNWTDTTPCLFLKVEIKNNEHTSWVQRLCEWTVLHKDDEGWFGIAGGKVCQVQHYQNRIMVPLFCMNRTRTEAIKRMEWHKMSSINCHGPQKDTINGPITKYAPDLVLGCFNKWCKKRGSWLGFNFFLNSHNDGFWGKVMLWFAKWPHDGLANWCHICEVWYVCWLEQANSNNDPIDSGTAHTVRSTPGASENIGHNSLRVGQIENIHQCGGKLRDTMCAYHTKVCGMEEEPTDFHQERPRAHPKQTRNPSCPLGLYGMCHFVHFRNTPLAYGTWVSKVHIEDTIGGMSMWYGWNIQTRPFRDYDKIMEPHKWNQHLGRQQGRTTKYCENQDDRWHYEPLMADEGLWHFWFMCREFVRIWRGMKIPAFPFCCQIHDTEQKDKLRCKFRGNEDVLIQPLGCNRACMPHGHKMRWHSRSMDCRQIRILTGHLPRILVGDEGQPKWGEAVDLGFIPGPKQNNPIYSEWEAYWPTPHKTWIAPRIWPIATADPQRWVLDDSIYRKFLKRCLWQYSYKSAMMDSRFQFTFISPPNHSWCRTEYEETQRCYEQMYYWNWPWVTRLTRMNINKKKGASLWRCQCPHNPQLFDKLGQDNQKIMARSSITFRFIWKMEWCNCYLYCGVLNGDNFEPDNRMWINSRACFELFCVYNGQHVDGLVDSLICKAAKKWSAMVASLRGHSTKKDNPMECGAFWPAICWLMAGIPELREMSYATNNFQGAGCQRGETTNPGDCDHRWVNGYCEWGQAVVIPDIEFKQYNMTGSQWMPAYIYWMNHYMCVRVDICGKRTLFTPRSIDHQTSAGEAISRATIYTEQMTLSRRFYCVELHLDRTYNKRMARSLRIIDDCEAVAQFPNEVRANYVFERFQDTMCSQLTYAYMVQMPIAYWWKQWQQTEDITLEEFVDRHSNVSRCAA'"
   ]
  },
  {
   "cell_type": "code",
   "execution_count": 42,
   "id": "c7b993e5-e6a2-47ea-8eaa-01288d891b18",
   "metadata": {},
   "outputs": [],
   "source": [
    "def transcript_permutations(prot_seq, aa_degen_dict):\n",
    "    total = 1\n",
    "    \n",
    "    #iterates over all amino acids in protein sequence and outputs the total degeneracy of the transcript sequence\n",
    "    for i in prot_seq:\n",
    "        total = total*aa_degen_dict[i]\n",
    "    \n",
    "    # for the 3 possible stop codons\n",
    "    total = total*3 \n",
    "    \n",
    "    # returns modulo 1 mil\n",
    "    return total % 1000000"
   ]
  },
  {
   "cell_type": "code",
   "execution_count": 43,
   "id": "be8692b1-4f95-4903-8616-ad15afb287b4",
   "metadata": {},
   "outputs": [
    {
     "data": {
      "text/plain": [
       "298496"
      ]
     },
     "execution_count": 43,
     "metadata": {},
     "output_type": "execute_result"
    }
   ],
   "source": [
    "transcript_permutations(prot, degen_dict)"
   ]
  }
 ],
 "metadata": {
  "kernelspec": {
   "display_name": "Python 3 (ipykernel)",
   "language": "python",
   "name": "python3"
  },
  "language_info": {
   "codemirror_mode": {
    "name": "ipython",
    "version": 3
   },
   "file_extension": ".py",
   "mimetype": "text/x-python",
   "name": "python",
   "nbconvert_exporter": "python",
   "pygments_lexer": "ipython3",
   "version": "3.10.9"
  }
 },
 "nbformat": 4,
 "nbformat_minor": 5
}
