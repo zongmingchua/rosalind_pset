{
 "cells": [
  {
   "cell_type": "code",
   "execution_count": 1,
   "id": "75ca7353-4503-44e2-bf50-4db629f0f833",
   "metadata": {},
   "outputs": [],
   "source": [
    "#taken from P3\n",
    "def revc(dna_in):\n",
    "    dna_out = ''\n",
    "    for i in dna_in:\n",
    "        if i == 'A':\n",
    "            dna_out = 'T' + dna_out  \n",
    "        elif i == 'T':\n",
    "            dna_out = 'A' + dna_out\n",
    "        elif i == 'C':\n",
    "            dna_out = 'G' +  dna_out \n",
    "        elif i == 'G':\n",
    "            dna_out = 'C' + dna_out\n",
    "        else:\n",
    "            print ('non-canonical base!')\n",
    "            break\n",
    "\n",
    "    return dna_out    "
   ]
  },
  {
   "cell_type": "code",
   "execution_count": 6,
   "id": "9d705536-4855-4c08-aab3-5a8789169e07",
   "metadata": {},
   "outputs": [],
   "source": [
    "#input of single DNA sequence - returns True if palindromic else False\n",
    "\n",
    "def is_palindrome(seq):\n",
    "    return seq == revc(seq)"
   ]
  },
  {
   "cell_type": "code",
   "execution_count": 40,
   "id": "50c3585b-46b7-43eb-96a3-393af61a0146",
   "metadata": {},
   "outputs": [],
   "source": [
    "#takes in DNA seq and returns all positions and length that are palindromic \n",
    "\n",
    "def revp(seq):\n",
    "    \n",
    "    #iterates over each potential starting position of a palindrome \n",
    "    for pos in range(0, len(seq)):\n",
    "        base = seq[pos]\n",
    "        \n",
    "        #iterates over possible lengths of palindrome\n",
    "        for length in range(4,13):\n",
    "            \n",
    "            #test if each potential palindrome is one\n",
    "            if is_palindrome(seq[pos:pos+length]) and length <= len(seq[pos:pos+length]):\n",
    "                print (pos+1, length)\n",
    "            "
   ]
  },
  {
   "cell_type": "code",
   "execution_count": 41,
   "id": "65a9c686-d6f7-44f9-81c2-28ff94e39ec4",
   "metadata": {},
   "outputs": [
    {
     "name": "stdout",
     "output_type": "stream",
     "text": [
      "4 6\n",
      "5 4\n",
      "6 6\n",
      "7 4\n",
      "17 4\n",
      "18 4\n",
      "20 6\n",
      "21 4\n"
     ]
    }
   ],
   "source": [
    "revp('TCAATGCATGCGGGTCTATATGCAT')"
   ]
  },
  {
   "cell_type": "code",
   "execution_count": 42,
   "id": "dc12089b-440a-460c-af28-76fdd2569238",
   "metadata": {},
   "outputs": [
    {
     "name": "stdout",
     "output_type": "stream",
     "text": [
      "1 4\n",
      "12 4\n",
      "18 4\n",
      "33 4\n",
      "34 4\n",
      "52 4\n",
      "102 8\n",
      "103 6\n",
      "104 4\n",
      "127 10\n",
      "128 8\n",
      "129 6\n",
      "130 4\n",
      "174 6\n",
      "175 4\n",
      "197 4\n",
      "224 4\n",
      "236 4\n",
      "240 4\n",
      "253 4\n",
      "262 4\n",
      "275 8\n",
      "276 4\n",
      "276 6\n",
      "277 4\n",
      "278 4\n",
      "304 4\n",
      "333 6\n",
      "334 4\n",
      "341 4\n",
      "349 4\n",
      "415 4\n",
      "417 4\n",
      "420 6\n",
      "421 4\n",
      "422 12\n",
      "423 10\n",
      "424 8\n",
      "425 6\n",
      "426 4\n",
      "508 6\n",
      "509 4\n",
      "536 4\n",
      "546 4\n",
      "550 4\n",
      "554 4\n",
      "598 4\n",
      "620 4\n",
      "658 4\n",
      "678 6\n",
      "679 4\n",
      "682 6\n",
      "683 4\n",
      "711 4\n",
      "716 4\n",
      "742 4\n",
      "762 6\n",
      "763 4\n",
      "766 4\n",
      "801 8\n",
      "802 6\n",
      "803 4\n",
      "818 4\n",
      "829 4\n",
      "846 4\n",
      "851 4\n"
     ]
    }
   ],
   "source": [
    "revp('CGCGAAGCGTTGGCCCTACGTGCTACAGCCTGATATACCGTTGCTTGTTCCCTAGAGTCGTCAATGAGCACACTCGCTATTCCAGCCCCCTTCTCAAACTGTTCCGGAATCCTGTTGTGAAATCTATCTGCGCAGAAAGAACGGAGAAGGTGGTCATTGGGGCATCCTCTTATTGCGCACTGCGGTCCCACAACCGCATGGTGTTCTTGTCAATCGCCATTCTTCGACACGGAGTTGCATTAAGTTACACCTCGCGGGTCTCCGGTGAGTCTCCTTATATAACTAAAGGGTAGATTTATTCAGTCGAGGGAACAGAACAGCCACCGCTCACTAAGCTTGATTAAATGACATGAGAGACCCTAAGGCTCCTTGTGTCGGATGGCGGAAAATAACCCGCTATCGTCAATACCTACCAGCTAGTGCACAGCTGTGCCGCACGCCCGAGTAGGTCATCAGTAGCGTATGTTATTTCCCCTCTATTGAAAACTTCCTTTCCCCCACACTCGGTTTAAATCACGCTCACGACCAGATTAGTGGCCCCAAAACCGGACGTAATTTACGGGTTTTGTCTGATTCTTTAGACGGAGCCGTCTGATTAGCTCTTGCCACATCTTGACCAAATTACCCTCAAGAGTAATACCATTAGAACTCTCCTTACCGGGGTCAGGCAACTCCTTAGTACTTAAGCAAGTCCGAGAAAACAGTAGCGGGATCTCCGGCGTCGGATGTTCTCAATCCTACTATAACGGACCAAACAGTGTTGATCATGCTCACCAAAAAAGTTGCTATGAAGCCTGCTGCTGATCAGAGGCGTATGTATAGTTTGAGTGCATAGCAACGAAGACGGCCCCGCG')"
   ]
  }
 ],
 "metadata": {
  "kernelspec": {
   "display_name": "Python 3 (ipykernel)",
   "language": "python",
   "name": "python3"
  },
  "language_info": {
   "codemirror_mode": {
    "name": "ipython",
    "version": 3
   },
   "file_extension": ".py",
   "mimetype": "text/x-python",
   "name": "python",
   "nbconvert_exporter": "python",
   "pygments_lexer": "ipython3",
   "version": "3.10.9"
  }
 },
 "nbformat": 4,
 "nbformat_minor": 5
}
