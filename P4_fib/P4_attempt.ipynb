{
 "cells": [
  {
   "cell_type": "code",
   "execution_count": 43,
   "id": "1179f42a-3f8a-4de0-90bf-e21a4fbe5bce",
   "metadata": {},
   "outputs": [],
   "source": [
    "s = [1, 1]"
   ]
  },
  {
   "cell_type": "code",
   "execution_count": 44,
   "id": "65614ac8-dbbf-4451-ac4e-d9fb61c97087",
   "metadata": {},
   "outputs": [],
   "source": [
    "def new_fib(fib_list):\n",
    "    l = len(fib_list)\n",
    "    print(fib_list[l-1]+fib_list[l-2])"
   ]
  },
  {
   "cell_type": "code",
   "execution_count": 45,
   "id": "6fae2bc5-72de-4e02-8f58-13de47afe503",
   "metadata": {},
   "outputs": [],
   "source": [
    "def new_rab(fib_list, prod):\n",
    "    l = len(fib_list)\n",
    "    return(prod*fib_list[l-2]+fib_list[l-1])"
   ]
  },
  {
   "cell_type": "code",
   "execution_count": 46,
   "id": "8a7a9b99-a3dc-4a16-ae82-bf28f287ac9b",
   "metadata": {},
   "outputs": [],
   "source": [
    "def recur_fib(fib_list, cycle, prod):\n",
    "    n = 0\n",
    "    while n < cycle-2:\n",
    "        next_term = new_rab(fib_list, prod)\n",
    "        fib_list.append(next_term)\n",
    "        n+=1\n",
    "    return(fib_list)\n",
    "    "
   ]
  },
  {
   "cell_type": "code",
   "execution_count": 47,
   "id": "9e042402-53f9-4a9b-9e66-988f5ba3f5a8",
   "metadata": {},
   "outputs": [
    {
     "data": {
      "text/plain": [
       "[1,\n",
       " 1,\n",
       " 5,\n",
       " 9,\n",
       " 29,\n",
       " 65,\n",
       " 181,\n",
       " 441,\n",
       " 1165,\n",
       " 2929,\n",
       " 7589,\n",
       " 19305,\n",
       " 49661,\n",
       " 126881,\n",
       " 325525,\n",
       " 833049,\n",
       " 2135149,\n",
       " 5467345,\n",
       " 14007941,\n",
       " 35877321,\n",
       " 91909085,\n",
       " 235418369,\n",
       " 603054709,\n",
       " 1544728185,\n",
       " 3956947021,\n",
       " 10135859761,\n",
       " 25963647845,\n",
       " 66507086889,\n",
       " 170361678269]"
      ]
     },
     "execution_count": 47,
     "metadata": {},
     "output_type": "execute_result"
    }
   ],
   "source": [
    "recur_fib(s, 29, 4)"
   ]
  }
 ],
 "metadata": {
  "kernelspec": {
   "display_name": "Python 3 (ipykernel)",
   "language": "python",
   "name": "python3"
  },
  "language_info": {
   "codemirror_mode": {
    "name": "ipython",
    "version": 3
   },
   "file_extension": ".py",
   "mimetype": "text/x-python",
   "name": "python",
   "nbconvert_exporter": "python",
   "pygments_lexer": "ipython3",
   "version": "3.10.9"
  }
 },
 "nbformat": 4,
 "nbformat_minor": 5
}
