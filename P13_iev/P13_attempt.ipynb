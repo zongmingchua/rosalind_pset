{
 "cells": [
  {
   "cell_type": "code",
   "execution_count": 37,
   "id": "58027df4-60bc-4850-82d3-a800c69e12ad",
   "metadata": {},
   "outputs": [],
   "source": [
    "def iev(in_str):\n",
    "    y = in_str.split() #list of each P1 genotype \n",
    "    total = 0\n",
    "    offspring = 0\n",
    "    x = []\n",
    "    \n",
    "    #returns the total number of couples, which we will have to divide by later\n",
    "    for i in y:\n",
    "        total += int(i)\n",
    "        x.append(int(i))   #seems like the easiest way to just convert it to int..\n",
    "        \n",
    "    #offspring from one parent that is homozygous dominant will be dominant \n",
    "    offspring += x[0]*2\n",
    "    offspring += x[1]*2\n",
    "    offspring += x[2]*2\n",
    "    \n",
    "    #both het dom P1 will produce 3/4 dom offspring\n",
    "    offspring += 0.75*x[3]*2\n",
    "    \n",
    "    #one het dom P1 with hom rec produces 1/2 dom offspring\n",
    "    offspring +=0.5*x[4]*2\n",
    "        \n",
    "    print(x)\n",
    "    print(offspring)"
   ]
  },
  {
   "cell_type": "code",
   "execution_count": 38,
   "id": "6ca29f39-19f6-448c-ba44-45f9afe24a95",
   "metadata": {},
   "outputs": [],
   "source": [
    "test = '1 0 0 1 0 1'"
   ]
  },
  {
   "cell_type": "code",
   "execution_count": 39,
   "id": "df7495ac-706d-40be-b4dd-7020d4e267f3",
   "metadata": {},
   "outputs": [
    {
     "name": "stdout",
     "output_type": "stream",
     "text": [
      "[1, 0, 0, 1, 0, 1]\n",
      "3.5\n"
     ]
    }
   ],
   "source": [
    "iev(test)"
   ]
  },
  {
   "cell_type": "code",
   "execution_count": 40,
   "id": "e1e0f478-81b3-4a94-bbfe-0ec4de72ce53",
   "metadata": {},
   "outputs": [],
   "source": [
    "ros = '16315 16604 18438 18056 19447 19507'"
   ]
  },
  {
   "cell_type": "code",
   "execution_count": 41,
   "id": "2c25a2dc-0f6d-4c82-95b0-a14026da7dc6",
   "metadata": {},
   "outputs": [
    {
     "name": "stdout",
     "output_type": "stream",
     "text": [
      "[16315, 16604, 18438, 18056, 19447, 19507]\n",
      "149245.0\n"
     ]
    }
   ],
   "source": [
    "iev(ros)"
   ]
  }
 ],
 "metadata": {
  "kernelspec": {
   "display_name": "Python 3 (ipykernel)",
   "language": "python",
   "name": "python3"
  },
  "language_info": {
   "codemirror_mode": {
    "name": "ipython",
    "version": 3
   },
   "file_extension": ".py",
   "mimetype": "text/x-python",
   "name": "python",
   "nbconvert_exporter": "python",
   "pygments_lexer": "ipython3",
   "version": "3.10.9"
  }
 },
 "nbformat": 4,
 "nbformat_minor": 5
}
