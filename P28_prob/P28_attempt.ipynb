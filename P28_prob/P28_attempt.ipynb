{
 "cells": [
  {
   "cell_type": "code",
   "execution_count": 73,
   "id": "3fdbdfc4-522f-4180-bcec-0cfb1b1d2e46",
   "metadata": {},
   "outputs": [],
   "source": [
    "import math"
   ]
  },
  {
   "cell_type": "code",
   "execution_count": 3,
   "id": "75828ba9-76de-4077-ae26-8c46e793e0a6",
   "metadata": {},
   "outputs": [
    {
     "name": "stdout",
     "output_type": "stream",
     "text": [
      "1 2\n"
     ]
    }
   ],
   "source": [
    "#how to output array in expected format\n",
    "s = (1,2)\n",
    "print (*s)"
   ]
  },
  {
   "cell_type": "code",
   "execution_count": 123,
   "id": "7741de00-1213-4192-a3d0-cf3561b2c508",
   "metadata": {},
   "outputs": [],
   "source": [
    "#read in input file\n",
    "with open('rosalind_prob.txt') as f:\n",
    "    lines = [line for line in f]\n",
    "    \n",
    "seq = lines[0]\n",
    "probs = lines[1].split()"
   ]
  },
  {
   "cell_type": "code",
   "execution_count": 124,
   "id": "382f1e3d-57d5-44ca-a911-757a11c6d720",
   "metadata": {},
   "outputs": [],
   "source": [
    "#convert probs from strings to floats\n",
    "for i in range(0, len(probs)):\n",
    "    probs[i] = float(probs[i])"
   ]
  },
  {
   "cell_type": "code",
   "execution_count": 125,
   "id": "737ca31c-cd5c-4032-95fd-ccadc5bae63d",
   "metadata": {},
   "outputs": [],
   "source": [
    "#calculate the prob for each number in array probs\n",
    "def prob(seq, probs):  \n",
    "    \n",
    "    #initialize output\n",
    "    p = [0] * len(probs)\n",
    "    \n",
    "    #iterate over array first, each prob is that of GC content in string \n",
    "    for i in range(0, len(probs)):\n",
    "        pGC = probs[i]\n",
    "        \n",
    "        #iterate over all bases in sequence \n",
    "        for s in seq:\n",
    "            \n",
    "            #checks for A/T\n",
    "            if s == 'A' or s == 'T':\n",
    "                p[i] += math.log10((1-pGC)/2)\n",
    "               \n",
    "            \n",
    "            #checks for C/G\n",
    "            if s == 'C' or s == 'G':\n",
    "                p[i] += math.log10(pGC/2)\n",
    "            \n",
    "        p[i] = round(p[i], 3)\n",
    "    \n",
    "    return p\n"
   ]
  },
  {
   "cell_type": "code",
   "execution_count": 126,
   "id": "23362d94-549c-42d6-a404-66cfcc598feb",
   "metadata": {
    "tags": []
   },
   "outputs": [
    {
     "name": "stdout",
     "output_type": "stream",
     "text": [
      "-73.798 -62.868 -60.245 -56.069 -54.455 -52.681 -52.446 -51.686 -51.694 -52.009 -52.5 -54.009 -55.45 -58.767 -59.419 -65.721 -72.425 -83.422\n"
     ]
    }
   ],
   "source": [
    "print(*prob(seq, probs))"
   ]
  }
 ],
 "metadata": {
  "kernelspec": {
   "display_name": "Python 3 (ipykernel)",
   "language": "python",
   "name": "python3"
  },
  "language_info": {
   "codemirror_mode": {
    "name": "ipython",
    "version": 3
   },
   "file_extension": ".py",
   "mimetype": "text/x-python",
   "name": "python",
   "nbconvert_exporter": "python",
   "pygments_lexer": "ipython3",
   "version": "3.10.9"
  }
 },
 "nbformat": 4,
 "nbformat_minor": 5
}
