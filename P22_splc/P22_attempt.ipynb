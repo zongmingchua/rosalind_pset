{
 "cells": [
  {
   "cell_type": "code",
   "execution_count": 1,
   "id": "bfabe9cc-0812-4643-98af-fb805af1d50c",
   "metadata": {},
   "outputs": [],
   "source": [
    "#reading in fasta function same as before\n",
    "#taken from P5 solution\n",
    "\n",
    "#takes a filename as input and returns a dictionary \n",
    "#where the keys are sequence IDs and the values are the corresponding sequences\n",
    "def read_fasta(filename):\n",
    "    sequences = {}\n",
    "    with open(filename, \"r\") as fasta_file:\n",
    "        # Initialize variables\n",
    "        sequence_id = None\n",
    "        sequence = \"\"\n",
    "\n",
    "        # Iterate over each line in the file\n",
    "        for line in fasta_file:\n",
    "            # Remove newline character\n",
    "            line = line.strip()\n",
    "\n",
    "            if line.startswith(\">\"):\n",
    "                # This is a header line\n",
    "                if sequence_id is not None:\n",
    "                    # Save the previous sequence\n",
    "                    sequences[sequence_id] = sequence\n",
    "                    sequence = \"\"\n",
    "\n",
    "                # Extract the sequence ID from the header line\n",
    "                sequence_id = line[1:]\n",
    "            else:\n",
    "                # This is a sequence line\n",
    "                sequence += line\n",
    "\n",
    "        # Save the last sequence\n",
    "        if sequence_id is not None:\n",
    "            sequences[sequence_id] = sequence\n",
    "\n",
    "    return sequences\n"
   ]
  },
  {
   "cell_type": "code",
   "execution_count": 40,
   "id": "75fac648-9059-44f5-800f-65600d56e639",
   "metadata": {},
   "outputs": [],
   "source": [
    "seqs = read_fasta('text.txt')\n",
    "#note that the first sequence in seqs is the original transcript and all other ones are introns"
   ]
  },
  {
   "cell_type": "code",
   "execution_count": 6,
   "id": "a35576e6-157e-453a-b55e-0e72e1538f11",
   "metadata": {},
   "outputs": [],
   "source": [
    "#taken from P8\n",
    "with open('codontable.txt', \"r\") as codon_table:\n",
    "    codons = {} #dict that matches a 3 length string to an amino acid\n",
    "    sequence = None\n",
    "    amino = None\n",
    "    \n",
    "    for line in codon_table:\n",
    "\n",
    "        #calls each element in a line\n",
    "        for i in line.split():\n",
    "            \n",
    "            #if the element is a sequence\n",
    "            if len(i)==3:\n",
    "                sequence = i\n",
    "            \n",
    "            #if the element is an amino acid\n",
    "            elif len(i)==1:\n",
    "                amino = i\n",
    "            \n",
    "            #if the element is a stop codon\n",
    "            elif i=='Stop':\n",
    "                amino = '!Stop'\n",
    "            \n",
    "            else:\n",
    "                print('ERROR unexpected string length: ', i)\n",
    "\n",
    "            #adds to dict \n",
    "            if sequence is not None and amino is not None:\n",
    "                codons[sequence] = amino\n",
    "                sequence = None\n",
    "                amino = None"
   ]
  },
  {
   "cell_type": "code",
   "execution_count": 8,
   "id": "b648d48f-107f-4f32-8ce9-41f2990abad4",
   "metadata": {},
   "outputs": [],
   "source": [
    "#from P18\n",
    "\n",
    "def translate(sequence):\n",
    "    protein_sequence = ''\n",
    "    flag = 0    #to ensure protein has stop codon...\n",
    "    \n",
    "    #for each length three string call an amino acid\n",
    "    for i in range(0,len(sequence),3):\n",
    "        codon = sequence[i:i+3]\n",
    "        \n",
    "        #checks if codon is length 3\n",
    "        if len(codon) == 3:\n",
    "            aa = codons[codon]\n",
    "        \n",
    "        #halt translation at stop codon...\n",
    "        if aa == '!Stop':\n",
    "            flag = 1\n",
    "            break\n",
    "        \n",
    "        else:\n",
    "            protein_sequence += aa\n",
    "        \n",
    "        \n",
    "    if flag == 1 or 0:   #changed as we dont care in this case \n",
    "        return protein_sequence\n",
    "    \n",
    "    #returns None if protein has no stop codon - change flag check if it dosnt matter\n",
    "    elif flag == 0:\n",
    "        return None    "
   ]
  },
  {
   "cell_type": "code",
   "execution_count": 72,
   "id": "cad3fbbb-6fc1-49fa-aec6-72caa6d43568",
   "metadata": {},
   "outputs": [],
   "source": [
    "#from P2\n",
    "def transcribe(dna_in):\n",
    "    rna_out = dna_in.replace(\"T\",\"U\")\n",
    "    return rna_out"
   ]
  },
  {
   "cell_type": "code",
   "execution_count": 67,
   "id": "5b59e263-bac4-4e51-92cd-419f917b977a",
   "metadata": {},
   "outputs": [],
   "source": [
    "#takes in fasta dict with first seq as original seq and rest as introns and outputs spliced sequence\n",
    "#dicts are NOT ordered\n",
    "#you must input name of the original seq\n",
    "\n",
    "def splc(seqs, seq_name):\n",
    "    introns = []\n",
    "    \n",
    "    for name, seq in seqs.items():\n",
    "        \n",
    "        #sort seqs into introns and original sequence\n",
    "        if name == seq_name:\n",
    "            spliced_seq = seq \n",
    "        else:\n",
    "            introns.append(seq)\n",
    "    \n",
    "    #loop over all introns\n",
    "    for intron in introns:\n",
    "        i_len = len(intron)\n",
    "        positions = [] #capable of splicing multiple occurences of the same intron \n",
    "        \n",
    "        #loops over all positions in original seq that can be the starting point for the intron\n",
    "        for pos in range(0, len(spliced_seq)-i_len):\n",
    "            \n",
    "            #checks if sequence at position is intronic\n",
    "            if spliced_seq[pos:pos+i_len] == intron:\n",
    "                positions.append(pos)\n",
    "                #print(spliced_seq[pos:pos+i_len])\n",
    "        \n",
    "        #removes all instances of introns in sequence\n",
    "        #pos is modified to account for intron removal per instance\n",
    "        #print (positions)\n",
    "        mod_pos = 0\n",
    "        \n",
    "        #loops over positions, modifying next positions based on spliced and shortened seq\n",
    "        for raw_pos in positions:\n",
    "            raw_pos -= mod_pos\n",
    "            spliced_seq = spliced_seq[0:raw_pos] + spliced_seq[(raw_pos+i_len):]\n",
    "            #print(spliced_seq)\n",
    "            mod_pos += i_len\n",
    "    \n",
    "    return spliced_seq\n",
    "            \n",
    "    #for i in range(0, len(seq)):\n",
    "        "
   ]
  },
  {
   "cell_type": "code",
   "execution_count": 76,
   "id": "8bcce1eb-07bd-4fab-a572-24c0c416de64",
   "metadata": {},
   "outputs": [],
   "source": [
    "seqs = read_fasta('rosalind_splc.txt')\n",
    "#note that the first sequence in seqs is the original transcript and all other ones are introns"
   ]
  },
  {
   "cell_type": "code",
   "execution_count": 77,
   "id": "7122a07c-853f-4e49-b62d-9630dbab4878",
   "metadata": {},
   "outputs": [],
   "source": [
    "DNA = splc(seqs, 'Rosalind_4142')"
   ]
  },
  {
   "cell_type": "code",
   "execution_count": 78,
   "id": "6d6744e1-da83-44bf-99f2-18d672d1983a",
   "metadata": {},
   "outputs": [],
   "source": [
    "RNA = transcribe(DNA)"
   ]
  },
  {
   "cell_type": "code",
   "execution_count": 79,
   "id": "ffdcb54e-8901-4c48-94be-93b42d97ad8b",
   "metadata": {},
   "outputs": [],
   "source": [
    "prot = translate(RNA)"
   ]
  },
  {
   "cell_type": "code",
   "execution_count": 80,
   "id": "d4b50a88-274b-472f-8176-ba4adad2361e",
   "metadata": {},
   "outputs": [
    {
     "name": "stdout",
     "output_type": "stream",
     "text": [
      "MVIIVTPPNYLVDSPLTILDSELSYACSVRPRTKRLFWVPPIADHWLDPNNTNIAVMYCLRLSFLTTFLSGGSVRLRGSSGETFLWCIVKVIAEGLVTHENWDYRILAPTSLRAPALTAQRLQPTQTSAIRACWPSCFCTGLLVLVRGTQSIMDPLARDFLRVGVGVLFAVWPSGLRSPDAIWRTPSLSL\n"
     ]
    }
   ],
   "source": [
    "print(prot)"
   ]
  }
 ],
 "metadata": {
  "kernelspec": {
   "display_name": "Python 3 (ipykernel)",
   "language": "python",
   "name": "python3"
  },
  "language_info": {
   "codemirror_mode": {
    "name": "ipython",
    "version": 3
   },
   "file_extension": ".py",
   "mimetype": "text/x-python",
   "name": "python",
   "nbconvert_exporter": "python",
   "pygments_lexer": "ipython3",
   "version": "3.10.9"
  }
 },
 "nbformat": 4,
 "nbformat_minor": 5
}
