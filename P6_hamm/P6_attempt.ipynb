{
 "cells": [
  {
   "cell_type": "code",
   "execution_count": 22,
   "id": "9874c1b8-42bd-42e6-8684-264618e2096c",
   "metadata": {},
   "outputs": [],
   "source": [
    "def hamm(seq1, seq2):\n",
    "    \n",
    "    #checks for equal length and gives error if not\n",
    "    if len(seq1)!=len(seq2):\n",
    "        return ('ERROR: not equal length inputs')\n",
    "    \n",
    "    #iterate over both strings\n",
    "    diffs = 0\n",
    "    for count in range(0, len(seq1)):\n",
    "        \n",
    "        if seq1[count]!=seq2[count]:\n",
    "            diffs+=1\n",
    "            \n",
    "    return (diffs)"
   ]
  },
  {
   "cell_type": "code",
   "execution_count": 23,
   "id": "5c06c628-3c19-4f03-ac4c-8ddd344ea2a6",
   "metadata": {},
   "outputs": [],
   "source": [
    "a = 'GAGCCTACTAACGGGAT'\n",
    "b = 'CATCGTAATGACGGCCT'"
   ]
  },
  {
   "cell_type": "code",
   "execution_count": 24,
   "id": "d6b2477c-fc6b-42bc-8b20-45c348a3fd1c",
   "metadata": {},
   "outputs": [
    {
     "data": {
      "text/plain": [
       "7"
      ]
     },
     "execution_count": 24,
     "metadata": {},
     "output_type": "execute_result"
    }
   ],
   "source": [
    "hamm(a,b)"
   ]
  },
  {
   "cell_type": "code",
   "execution_count": 25,
   "id": "ff9a98cc-8206-4e25-8345-99193786f9ee",
   "metadata": {},
   "outputs": [],
   "source": [
    "a = 'CGGAGAGGGCATCTGATGGAGCGTGTACATACAGGCCCCGTGTTGGCGACGCACGCATGCGTAGAATTGTTTGACCTCGGTATAGTGGACGTACGACAAGTTGTGCAGTCGAGTGAACTGGTACGGTGAATTATAAAGAGCTGGGCGCGAATCGTCCATTATCATTTCACGAAGAGAAAAGGGATCTCATGTTTAGATGAACGGTACCGTAGCGGTGTAACAGCAAAACCTACGCCACAAGTTGAATGCTATTAATTTGAGAGGACTTGTGAAAGTAATGGTTTGACTAGCGCCGGCTCGTGGGGGAGCTGATAACAATCACTATACACGTAAAAATTTCTGTGAAATAATCGGTCCCAGAACTTAACAGAAATGGGGCATCGGCACTAATGGGCCCATTAGCACTGTGCCTATCGAGTCTTCCGGGCCCGAGCTGTCGTGAGAACGGAGACATTTGCACGGACACCTTTCAGAATGCCTGCCAAGTACAGCATACGTCGAACGCGAAGTTTAAGTCGGACGGGCTCCGAGCTGAACACCTCGAGTGCGACCCATACACGTCTGGGGCTTAATCCACTGGATACAAAGATGAAATACAAGTATCTCCATAGATCCAATAACGAACAAAAACCGGCTTTTATATCGTGTGGGTGCGATATCTGCAGCAATGATTCCTCCTTGACCTATCTTCGATACGTTGCTCAATCTTAATACCACAGCGACTCAGGCGAATAACCCCTGCTGCCACAACTGTGTCTGCACAAAGTATTCCTAGCTGCCTGCCTATCAGCTACTGAGTGCGGAGCCGTCGCCTAGCGTGTGGATGGCTCAGGAGCACTCGCACGAGATCAACCGACAACAGAGGAGTCGCAGACAGCAGTAGAATCCCTACTAGCCATA'\n",
    "b = 'GCGAGACGGATCCTACGGACGAAAAAATCCCTAGACCTCGTGGTAGTAACTTACGTATGTGTTCGATGCATTACACTTAATCTCGTCGGTATATGCCACGCTGATAAGTGGAAAGGGCTGACGCGGTGTTATGTAGAATACAGGGGACGATATGTCCATCCTGATCGGCCGCAGAGCAAATGGATCCACTGTATCGGGGAGCAGAATCATAAGCGTCTAATAGAGAAAGTGTCGCCAACACTTGAGCGTATGTACGACGACGGTCATCTAAAGGGTGTTGGTCTAGATAGCAACCGGCGCCGCCGGTATGCACCGATGAAGGTATCCCCGTCACGTTGCCCCGGGAATAAATGGATCATAGGTTCACGAGAACCCTGGCATCGGCAATACGGGGCCAATCAGTACTGTGCCAATATCGCCTAGCTGATCAGCACTGACTCACGGGGGGACATCGCTTTGCGGTGCACTTCTAGAAACCCTGAACAGTGTAGCATGTTTCTGATGCGAATGTGGAGGCGGCCGCGGTCACAGCTGAGGAGGCGACGTGCGACCCGTAAACAGTTCGCGTTTTCTCCCGTGAAACGAGTGATGAGTTGTAACCATGTCCCTTAATGTAATGAGGACCATCAACTTAGGGTAAGCTGGTCTCGTTGCGATGCAGGCACCACTGCGTGCTCCTTGAATCAGTGTCGAAAGGTCGGTGACGCTTGACTCGACAGGGCACGATATGCCACCCGTTTGGCACCGGATCTGGCACCGAGGCATTAATCCCGCGCTCCATGCTTAGAATTTTCTATGTTCGTCTCCTTTCCCTACCGTATGGGACGTTGACTAGCAAAAAATCTCGAAGTAGTGCCTACTGAGCAGTAGCCGCGCGGATTACGCAAGCAAGTAACCCAC'\n"
   ]
  },
  {
   "cell_type": "code",
   "execution_count": 26,
   "id": "6dd972ea-929a-4497-9e54-0cba1c38e8ce",
   "metadata": {},
   "outputs": [
    {
     "data": {
      "text/plain": [
       "439"
      ]
     },
     "execution_count": 26,
     "metadata": {},
     "output_type": "execute_result"
    }
   ],
   "source": [
    "hamm(a,b)"
   ]
  }
 ],
 "metadata": {
  "kernelspec": {
   "display_name": "Python 3 (ipykernel)",
   "language": "python",
   "name": "python3"
  },
  "language_info": {
   "codemirror_mode": {
    "name": "ipython",
    "version": 3
   },
   "file_extension": ".py",
   "mimetype": "text/x-python",
   "name": "python",
   "nbconvert_exporter": "python",
   "pygments_lexer": "ipython3",
   "version": "3.10.9"
  }
 },
 "nbformat": 4,
 "nbformat_minor": 5
}
