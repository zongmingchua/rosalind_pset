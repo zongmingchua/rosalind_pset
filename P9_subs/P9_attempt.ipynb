{
 "cells": [
  {
   "cell_type": "code",
   "execution_count": 7,
   "id": "a4fa0696-f6a8-48de-9257-9157bb5b9ded",
   "metadata": {},
   "outputs": [],
   "source": [
    "def subs(seq, motif):\n",
    "    positions = ''\n",
    "    motif_len = len(motif)\n",
    "    \n",
    "    #iterate over length of seq\n",
    "    for i in range(0, len(seq)):\n",
    "        local_seq = seq[i:i+motif_len]\n",
    "        \n",
    "        #adds position of local_seq matching the motif\n",
    "        if local_seq==motif:\n",
    "            positions += (str(i+1)+' ')\n",
    "    \n",
    "    return(positions)\n",
    "        "
   ]
  },
  {
   "cell_type": "code",
   "execution_count": 8,
   "id": "122d5955-a432-4f30-82bb-73489d14b62e",
   "metadata": {},
   "outputs": [
    {
     "data": {
      "text/plain": [
       "'2 4 10 '"
      ]
     },
     "execution_count": 8,
     "metadata": {},
     "output_type": "execute_result"
    }
   ],
   "source": [
    "subs('GATATATGCATATACTT', 'ATAT')"
   ]
  },
  {
   "cell_type": "code",
   "execution_count": 9,
   "id": "a9fd08b5-e557-4afc-9a03-2c083541dcbe",
   "metadata": {},
   "outputs": [
    {
     "data": {
      "text/plain": [
       "'19 78 195 219 226 262 269 335 350 357 372 429 443 523 547 568 607 628 662 765 772 836 '"
      ]
     },
     "execution_count": 9,
     "metadata": {},
     "output_type": "execute_result"
    }
   ],
   "source": [
    "subs('AAAGGTGGTTAGGTGGTCAGGTGGTAGGTGGTCAAGGTGGTGCAGGTGGTAAGGTGGTCAAGGTGGTGAGGTGGTCTAGGTGGTAGGTGGTTAGGTGGTGCGAGGTGGTGAGGTGGTCAATAGGTGGTAACTCTAGGTGGTTAGAGGTGGTGAAGGTGGTGAGGTGGTTGCAGGTGGTGTCGGAAAGGTGGTGAAGGTGGTAGGTGGTCGAGGTGGTCAGGTGGTAGGTGGTAGGCACTGAGGTGGTTCTGTAAGGTGGTTAGGTGGTAGGTGGTAGGTGGTCCCAGGTGGTCTAGGTGGTCCAAATATCAGGTGGTTAGTTCACCAGGTGGTGAGGTGGTAGGTGGTCAGGTGGTAGGTGGTAGGTGGTTAGGTGGTAGGTGGTGGTTCAGGTGGTTCCACAGGTGGTTCCTAGGTGGTACGCGTCCAGGTGGTAGGTGGGAGGTGGTAGGTGGTCACGTCGCAGGTGGTCTATTCCGGTGACTGAAGGTGGTGAGGTGGTACCAGGTGGTCAGGTGGTTAAGGTGGTAGGTGGTCAGGTGGTACAGGTGGTAGTAGGTGGTCGATAGGTGGTAGGTGGTTAGGTGGTCAAGGTGGTACTGTGACAGGTGGTAGAGGTGGTGAGGAAGGTGGTAGAAGGTGGTTTGTATCATAGGTGGTTAGGTGGTAGAGGTGGTGTTGCTCAGGTGGTCTGAGGTGGTAAGGTGGTATTGGGATGCTTCGCCTACGCCTAGGTGGTCAAGGTGGTTGTCACTTAGGTGGTTAGGTGGTAGGTGGTAGGTGGTGTGGGAGGTGGTGGGGTAGTGCTTGGAGGTGGTCCAGGTGGTTAGCTAATAGGTGGTAGGTGGTGAGGTGGTAAGGTGGTAAGGTGGT', 'AGGTGGTAG')"
   ]
  }
 ],
 "metadata": {
  "kernelspec": {
   "display_name": "Python 3 (ipykernel)",
   "language": "python",
   "name": "python3"
  },
  "language_info": {
   "codemirror_mode": {
    "name": "ipython",
    "version": 3
   },
   "file_extension": ".py",
   "mimetype": "text/x-python",
   "name": "python",
   "nbconvert_exporter": "python",
   "pygments_lexer": "ipython3",
   "version": "3.10.9"
  }
 },
 "nbformat": 4,
 "nbformat_minor": 5
}
