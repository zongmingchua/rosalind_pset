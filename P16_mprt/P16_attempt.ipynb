{
 "cells": [
  {
   "cell_type": "code",
   "execution_count": 1,
   "id": "cda06512-1b39-4090-afc8-0359a12a080b",
   "metadata": {},
   "outputs": [],
   "source": [
    "#accessing protein sequences from ID\n",
    "#code from ChatGPT\n",
    "\n",
    "import requests\n",
    "\n",
    "def get_protein_sequence(uniprot_id):\n",
    "    # Construct the URL to retrieve the protein sequence data for the given ID\n",
    "    url = f\"https://www.uniprot.org/uniprot/{uniprot_id}.fasta\"\n",
    "\n",
    "    # Send a GET request to the URL and retrieve the response\n",
    "    response = requests.get(url)\n",
    "\n",
    "    # Extract the sequence data from the response text\n",
    "    sequence = \"\".join(response.text.split(\"\\n\")[1:])\n",
    "\n",
    "    return sequence"
   ]
  },
  {
   "cell_type": "code",
   "execution_count": 16,
   "id": "ae4f6f03-d534-47f8-a3a5-f19eb12dc06b",
   "metadata": {},
   "outputs": [
    {
     "name": "stdout",
     "output_type": "stream",
     "text": [
      "MKNKFKTQEELVNHLKTVGFVFANSEIYNGLANAWDYGPLGVLLKNNLKNLWWKEFVTKQKDVVGLDSAIILNPLVWKASGHLDNFSDPLIDCKNCKARYRADKLIESFDENIHIAENSSNEEFAKVLNDYEISCPTCKQFNWTEIRHFNLMFKTYQGVIEDAKNVVYLRPETAQGIFVNFKNVQRSMRLHLPFGIAQIGKSFRNEITPGNFIFRTREFEQMEIEFFLKEESAYDIFDKYLNQIENWLVSACGLSLNNLRKHEHPKEELSHYSKKTIDFEYNFLHGFSELYGIAYRTNYDLSVHMNLSKKDLTYFDEQTKEKYVPHVIEPSVGVERLLYAILTEATFIEKLENDDERILMDLKYDLAPYKIAVMPLVNKLKDKAEEIYGKILDLNISATFDNSGSIGKRYRRQDAIGTIYCLTIDFDSLDDQQDPSFTIRERNSMAQKRIKLSELPLYLNQKAHEDFQRQCQK\n"
     ]
    }
   ],
   "source": [
    "sequence = get_protein_sequence(\"B5ZC00\")\n",
    "print(sequence)"
   ]
  },
  {
   "cell_type": "code",
   "execution_count": 139,
   "id": "54237a40-8f67-4b66-9f8e-92715d399740",
   "metadata": {},
   "outputs": [
    {
     "name": "stdout",
     "output_type": "stream",
     "text": [
      "['A2Z669', 'B5ZC00', 'P07204', 'P20840']\n"
     ]
    }
   ],
   "source": [
    "#reading in protein IDs\n",
    "with open('test.txt', 'r') as text:\n",
    "    ids = text.read()\n",
    "    \n",
    "#splitting IDs to make them parsable in for loop\n",
    "ids = ids.split()\n",
    "\n",
    "print(ids)"
   ]
  },
  {
   "cell_type": "code",
   "execution_count": 106,
   "id": "500a5a03-ae83-4f78-aff7-486bca0f91e8",
   "metadata": {},
   "outputs": [],
   "source": [
    "#finding sequences that conform to motif N{P}[ST]{P}\n",
    "#this function is generalizable to any protein motif that follows the same format of the above\n",
    "\n",
    "def find_motif(seq, motif):\n",
    "    \n",
    "    #no easy way to check input lengths are the same so we are skipping that \n",
    "    \n",
    "    checker = True #final return\n",
    "    count = 0\n",
    "    flag = 0 #used to check if a bracket is called, set to 1 with [] and 2 with {}\n",
    "    hook = '' #sequence within brackets to check\n",
    "    \n",
    "    for i in motif:\n",
    "        \n",
    "        #this means the aa at this position can be anything \n",
    "        if i == '[' and flag == 0:\n",
    "            flag = 1\n",
    "            \n",
    "        elif i == '{' and flag == 0:\n",
    "            flag = 2\n",
    "\n",
    "        elif i == ']' and flag == 1:\n",
    "            flag = 0\n",
    "            \n",
    "            #checks if the aa is found in the hook sequence\n",
    "            if seq[count] not in hook:\n",
    "                checker = False\n",
    "                \n",
    "            hook = ''\n",
    "            count +=1\n",
    "            \n",
    "        elif i == '}'and flag == 2:\n",
    "            flag = 0\n",
    "            \n",
    "            #checks if the aa is NOT found in the hook sequence\n",
    "            if seq[count] in hook:\n",
    "                checker = False\n",
    "    \n",
    "            hook = ''\n",
    "            count +=1\n",
    "            \n",
    "        elif flag == 0:\n",
    "            \n",
    "            #checks if aa matches motif at same position without other conditions\n",
    "            if i != seq[count]:\n",
    "                checker = False \n",
    "            count +=1\n",
    "        \n",
    "        elif flag == 1 or flag == 2:\n",
    "            hook = hook + i\n",
    "        \n",
    "        else:\n",
    "            print ('Error! Check motif')\n",
    "\n",
    "    #if sequence is valid, return True, else return false \n",
    "    return checker, count\n",
    "    "
   ]
  },
  {
   "cell_type": "code",
   "execution_count": 107,
   "id": "fd16eb9d-4d2f-4be2-81f9-bfbc8c4ec35b",
   "metadata": {},
   "outputs": [
    {
     "data": {
      "text/plain": [
       "(True, 7)"
      ]
     },
     "execution_count": 107,
     "metadata": {},
     "output_type": "execute_result"
    }
   ],
   "source": [
    "find_motif('NXSXSCT', 'N{P}[ST]{P}SCT')"
   ]
  },
  {
   "cell_type": "code",
   "execution_count": 141,
   "id": "70bc9029-1c19-4d91-aca8-a1f079870c3f",
   "metadata": {},
   "outputs": [],
   "source": [
    "def mprt (ids, motif):\n",
    "    \n",
    "    #iterate over list of protein ids \n",
    "    for pid in ids:\n",
    "        p_seq = get_protein_sequence(pid[0:6]) #pid 0:6 prevents miscalled ones from coming through\n",
    "        check, motif_length = find_motif(p_seq, motif)\n",
    "        loci = ''\n",
    "        \n",
    "        #needed to sanitize inputs...\n",
    "        #print (p_seq)\n",
    "        \n",
    "        #iterate over all possible positions in protein sequence\n",
    "        for i in range(0, len(p_seq) - motif_length+1):\n",
    "            test_seq = p_seq[i:i+motif_length]\n",
    "            \n",
    "            #adds loci only if test_seq and motif match\n",
    "            check, _ = find_motif(test_seq, motif)  # calling find_motif in if loop check did not work properly due to multiple outputs - executed as always True as a result\n",
    "            if check:\n",
    "                loci = loci + str(i + 1) + ' '\n",
    "            \n",
    "        #only print pid if there is a match\n",
    "        if loci != '':\n",
    "            print (pid)\n",
    "            print (loci)\n",
    "            \n",
    "            "
   ]
  },
  {
   "cell_type": "code",
   "execution_count": 140,
   "id": "729a6e51-50da-4840-9162-9028ff2d6a4f",
   "metadata": {
    "tags": []
   },
   "outputs": [
    {
     "name": "stdout",
     "output_type": "stream",
     "text": [
      "B5ZC00\n",
      "85 118 142 306 395 \n",
      "P07204\n",
      "47 115 116 382 409 \n",
      "P20840\n",
      "79 109 135 248 306 348 364 402 485 501 614 \n"
     ]
    }
   ],
   "source": [
    "mprt(ids, 'N{P}[ST]{P}')"
   ]
  },
  {
   "cell_type": "code",
   "execution_count": 144,
   "id": "829960c5-960f-457b-a735-123ea46bfc0d",
   "metadata": {},
   "outputs": [
    {
     "name": "stdout",
     "output_type": "stream",
     "text": [
      "['Q1JHI2', 'B4S2L7', 'P00304_ARA3_AMBEL', 'P81824_PABJ_BOTJA', 'P00744_PRTZ_BOVIN', 'Q3BRP8', 'P10643_CO7_HUMAN', 'Q67JS9', 'O08537_ESR2_MOUSE', 'Q5FTZ8', 'P02725_GLP_PIG', 'Q0IBF4', 'A9N9G8']\n"
     ]
    }
   ],
   "source": [
    "#reading in protein IDs\n",
    "with open('rosalind.txt', 'r') as text:\n",
    "    ids = text.read()\n",
    "    \n",
    "#splitting IDs to make them parsable in for loop\n",
    "ids = ids.split()\n",
    "\n",
    "print(ids)"
   ]
  },
  {
   "cell_type": "code",
   "execution_count": 145,
   "id": "63991ecc-fb1b-47b4-8350-b22c339e0fe4",
   "metadata": {},
   "outputs": [
    {
     "name": "stdout",
     "output_type": "stream",
     "text": [
      "B4S2L7\n",
      "33 \n",
      "P00304_ARA3_AMBEL\n",
      "41 \n",
      "P81824_PABJ_BOTJA\n",
      "25 \n",
      "P00744_PRTZ_BOVIN\n",
      "59 191 289 \n",
      "P10643_CO7_HUMAN\n",
      "202 754 \n",
      "O08537_ESR2_MOUSE\n",
      "17 55 407 \n",
      "Q5FTZ8\n",
      "49 62 \n",
      "P02725_GLP_PIG\n",
      "16 19 39 \n",
      "Q0IBF4\n",
      "136 \n"
     ]
    }
   ],
   "source": [
    "mprt(ids, 'N{P}[ST]{P}')"
   ]
  }
 ],
 "metadata": {
  "kernelspec": {
   "display_name": "Python 3 (ipykernel)",
   "language": "python",
   "name": "python3"
  },
  "language_info": {
   "codemirror_mode": {
    "name": "ipython",
    "version": 3
   },
   "file_extension": ".py",
   "mimetype": "text/x-python",
   "name": "python",
   "nbconvert_exporter": "python",
   "pygments_lexer": "ipython3",
   "version": "3.10.9"
  }
 },
 "nbformat": 4,
 "nbformat_minor": 5
}
