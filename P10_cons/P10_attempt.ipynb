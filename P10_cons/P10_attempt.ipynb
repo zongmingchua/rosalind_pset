{
 "cells": [
  {
   "cell_type": "code",
   "execution_count": 2,
   "id": "1935948d-6b56-4f6e-9ed3-244ab8e9fbc6",
   "metadata": {},
   "outputs": [],
   "source": [
    "#taken from P5 solution\n",
    "\n",
    "#takes a filename as input and returns a dictionary \n",
    "#where the keys are sequence IDs and the values are the corresponding sequences\n",
    "def read_fasta(filename):\n",
    "    sequences = {}\n",
    "    with open(filename, \"r\") as fasta_file:\n",
    "        # Initialize variables\n",
    "        sequence_id = None\n",
    "        sequence = \"\"\n",
    "\n",
    "        # Iterate over each line in the file\n",
    "        for line in fasta_file:\n",
    "            # Remove newline character\n",
    "            line = line.strip()\n",
    "\n",
    "            if line.startswith(\">\"):\n",
    "                # This is a header line\n",
    "                if sequence_id is not None:\n",
    "                    # Save the previous sequence\n",
    "                    sequences[sequence_id] = sequence\n",
    "                    sequence = \"\"\n",
    "\n",
    "                # Extract the sequence ID from the header line\n",
    "                sequence_id = line[1:]\n",
    "            else:\n",
    "                # This is a sequence line\n",
    "                sequence += line\n",
    "\n",
    "        # Save the last sequence\n",
    "        if sequence_id is not None:\n",
    "            sequences[sequence_id] = sequence\n",
    "\n",
    "    return sequences\n"
   ]
  },
  {
   "cell_type": "code",
   "execution_count": 21,
   "id": "561611cb-b863-42b2-b358-231424bac982",
   "metadata": {},
   "outputs": [
    {
     "data": {
      "text/plain": [
       "dict_items([('Rosalind_1', 'ATCCAGCT'), ('Rosalind_2', 'GGGCAACT'), ('Rosalind_3', 'ATGGATCT'), ('Rosalind_4', 'AAGCAACC'), ('Rosalind_5', 'TTGGAACT'), ('Rosalind_6', 'ATGCCATT'), ('Rosalind_7', 'ATGGCACT')])"
      ]
     },
     "execution_count": 21,
     "metadata": {},
     "output_type": "execute_result"
    }
   ],
   "source": [
    "fasta = read_fasta('test.fasta')\n",
    "fasta.items()\n",
    "#len(fasta)"
   ]
  },
  {
   "cell_type": "code",
   "execution_count": 61,
   "id": "1fcc8367-c7fc-44db-9838-0c502f92cafc",
   "metadata": {},
   "outputs": [],
   "source": [
    "def cons(fasta):\n",
    "    \n",
    "    #make a list of sequences in the fasta file\n",
    "    sequences = []\n",
    "    for key, value in fasta.items():\n",
    "        sequences.append(value)\n",
    "    \n",
    "    \n",
    "    #assuming all sequences are of the same length\n",
    "    seq_len = len(sequences[0])\n",
    "    \n",
    "    #initialize final output\n",
    "    consensus_seq = ''\n",
    "    A_count = 'A: '\n",
    "    T_count = 'T: '\n",
    "    C_count = 'C: '\n",
    "    G_count = 'G: '\n",
    "    \n",
    "    #iterate over length of seqs\n",
    "    for i in range(0, seq_len):\n",
    "        \n",
    "        #initialize sums for each position \n",
    "        As = 0\n",
    "        Ts = 0\n",
    "        Cs = 0\n",
    "        Gs = 0\n",
    "        \n",
    "        \n",
    "        #iterate over each sequence\n",
    "        for k in range(0, len(sequences)):\n",
    "            base = sequences[k][i]\n",
    "\n",
    "            if base == 'A':\n",
    "                As +=1\n",
    "                        \n",
    "            elif base == 'T':\n",
    "                Ts +=1\n",
    "            \n",
    "            elif base == 'C':\n",
    "                Cs +=1\n",
    "            \n",
    "            elif base == 'G':\n",
    "                Gs +=1\n",
    "        \n",
    "        #add new counts\n",
    "        A_count += (str(As)+' ')\n",
    "        T_count += (str(Ts)+' ')\n",
    "        C_count += (str(Cs)+' ')\n",
    "        G_count += (str(Gs)+' ')\n",
    "    \n",
    "        #generate consensus sequence\n",
    "        pos_base = [As, Ts, Cs, Gs]\n",
    "        index_base = pos_base.index(max(pos_base))\n",
    "        \n",
    "        if index_base == 0:\n",
    "            consensus_seq += 'A'\n",
    "            \n",
    "        if index_base == 1:\n",
    "            consensus_seq += 'T'\n",
    "            \n",
    "        if index_base == 2:\n",
    "            consensus_seq += 'C'\n",
    "            \n",
    "        if index_base == 3:\n",
    "            consensus_seq += 'G'\n",
    "\n",
    "        \n",
    "    print(consensus_seq)\n",
    "    print(A_count) \n",
    "    print(C_count)\n",
    "    print(G_count)\n",
    "    print(T_count)"
   ]
  },
  {
   "cell_type": "code",
   "execution_count": 62,
   "id": "97e4d334-dc0b-4cb7-a299-2169a621b7cd",
   "metadata": {},
   "outputs": [
    {
     "name": "stdout",
     "output_type": "stream",
     "text": [
      "ATGCAACT\n",
      "A: 5 1 0 0 5 5 0 0 \n",
      "C: 0 0 1 4 2 0 6 1 \n",
      "G: 1 1 6 3 0 1 0 0 \n",
      "T: 1 5 0 0 0 1 1 6 \n"
     ]
    }
   ],
   "source": [
    "cons(fasta)"
   ]
  },
  {
   "cell_type": "code",
   "execution_count": 64,
   "id": "a42ad3ae-0bc6-4dd0-a812-1044cf8f9042",
   "metadata": {
    "tags": []
   },
   "outputs": [],
   "source": [
    "fasta = read_fasta('rosalind_cons.fasta')"
   ]
  },
  {
   "cell_type": "code",
   "execution_count": 65,
   "id": "328c4ae4-6d03-4ce1-96ce-bfa3691efa72",
   "metadata": {},
   "outputs": [
    {
     "name": "stdout",
     "output_type": "stream",
     "text": [
      "TATCAGAGCGTAAAAACTGCAACCACCAGCGTTACACGGACATAAGGAAAGGTTAACCTTATTCAAATTTTTTGTAAGTTGCAATGGATAACAACCAACAGATCACGCCCTCAAAAGATAGAGTTAAAGATACATGCTTAGCGCGAAGAAGGTCGATTGGTTGCAATAGTTTAGGTGTCAACTTAAAGCATATCGCTTGTATCTCTAATCTTAGGGCGCTAATCTCTCAGACAATCACGCTTAACAGTTTTGAAGCTATTAGAGATGATAAGCACACAACCCAAGAGAATCCTCCTCATTATTTTCGGGGTATGCTAGTTTTTTAGGCTTGAAAGTCGAATCTCTCTAGTTGCACGACGAGTTTTCGGAACTGACACATGTTTAATTAAAGCACATGAAGAATAAAACTGATCTAGGTCTGATAATGTGCGCTCTTTAAAATACGCACAACGAAGAAATAATAGTCAAACGGATCAGGGTTAGGATTTACGAGTTTTATACCAGATGAGCACTGACTCATGAAGAAGAAAGTGTGACAGAAAAGTCTCGTTGCATGATAACTTCGTAGACAACAAATGGAAAACTGAGTCAATCACAGACACAGCTAAACGGCAATTAGCCTACAATCTACGTATTCTAGTAGGTTTTTACCTTCAGTACATTTCTTGCTGGAGACTAGCATCCTGGATAGCTAGCAAAACAATTATCTTCCATAGTTTTCGGATCACGAGCTCACTTTACCACCAACACAGAAATATTTGTACGCCCTATACGAATCCGCAAAACTTGATAAAACCGTTTCTGATTTGCACATGTAGTTAAGTACCATTAAACTCACACGCCAAGCTATCGATTAGTAAGTAGACTTTGGATGGTTACTGAAGCCTAGCTCCTTAAATGTCGCCCAGGGAGAAAATAGCAATTTATAGTTAAGTGATGTCCCG\n",
      "A: 2 4 1 1 5 1 3 2 1 1 3 4 6 4 4 3 1 1 2 1 5 3 0 3 6 3 3 5 2 1 2 2 2 5 1 5 0 3 2 4 1 3 2 4 5 3 2 3 3 5 4 2 1 0 3 4 1 2 1 2 4 0 2 0 4 4 4 2 2 2 1 3 2 2 3 3 6 1 2 2 2 3 4 4 1 2 2 6 2 4 3 2 4 4 2 1 5 3 1 4 1 3 2 3 6 2 2 3 3 2 2 2 3 3 5 3 1 4 2 3 3 3 2 1 2 4 4 4 2 3 1 4 1 4 1 0 0 0 2 4 2 1 1 2 3 4 4 1 4 5 1 3 1 3 2 3 2 2 2 0 1 2 2 1 5 4 2 4 2 2 3 1 4 2 1 1 1 2 2 5 5 1 1 3 3 3 4 2 3 4 1 6 1 3 4 2 2 2 0 2 3 2 3 4 1 1 3 4 2 3 0 1 5 3 0 2 3 2 1 2 3 3 1 2 2 3 1 2 4 1 4 3 4 3 2 2 3 2 0 2 0 3 4 4 3 4 2 3 2 2 1 3 6 3 1 3 2 3 2 3 3 0 4 3 4 2 4 4 2 3 4 1 3 3 1 6 3 3 4 2 3 2 4 3 2 3 3 3 4 1 2 3 1 1 3 2 2 3 2 2 4 2 3 1 2 2 1 0 3 2 1 4 2 3 3 1 3 1 0 2 1 1 0 2 5 3 1 2 2 2 2 3 4 4 2 2 2 0 6 4 1 2 3 1 2 1 3 6 2 2 2 1 3 6 2 1 4 2 2 4 3 1 2 2 1 3 2 2 3 3 1 2 2 4 2 4 1 4 1 3 2 2 0 3 3 1 2 4 4 4 0 3 3 3 5 2 2 3 4 3 3 3 2 6 3 6 4 0 1 1 4 2 1 1 3 1 3 1 2 3 2 5 2 3 4 1 1 2 1 2 1 3 2 2 0 2 3 3 5 3 4 2 3 1 2 3 3 1 3 4 3 3 5 3 1 5 6 3 3 4 3 2 3 1 0 1 3 4 4 2 3 2 4 3 2 4 0 3 1 3 1 3 1 3 3 1 2 3 5 2 1 5 0 2 2 2 2 4 2 4 1 3 4 1 3 0 1 3 2 2 5 0 2 2 4 1 3 2 4 1 1 4 4 1 4 5 2 4 4 4 2 0 2 2 2 5 1 4 3 4 4 4 3 1 3 2 2 2 2 2 3 1 2 5 1 1 6 1 3 4 3 3 1 2 2 2 4 3 4 0 5 4 1 4 4 4 2 0 1 5 3 3 3 2 2 2 5 3 2 3 4 5 2 2 3 1 3 0 5 2 3 2 3 1 2 1 3 6 5 3 1 2 3 4 6 2 1 4 1 1 2 2 3 2 4 5 1 3 4 4 2 1 2 3 2 0 2 2 4 2 1 5 2 4 2 2 2 3 3 3 3 2 3 2 2 5 2 0 5 3 4 3 1 3 0 2 0 3 2 1 1 0 4 1 4 2 3 5 3 3 4 1 2 2 1 3 3 4 3 5 2 2 2 3 3 3 5 4 4 3 2 5 5 2 1 4 2 1 1 3 2 1 4 1 4 0 2 1 2 1 3 1 1 6 2 2 3 1 3 3 3 2 2 2 3 2 2 2 2 5 2 2 4 2 2 5 3 3 4 0 3 1 3 3 3 1 4 0 2 3 2 1 4 2 1 1 1 2 2 4 2 4 1 3 6 3 1 2 1 2 3 3 3 3 3 3 3 2 2 3 3 3 3 5 4 1 4 3 2 3 1 2 3 3 4 1 2 1 3 2 4 1 3 0 3 1 4 1 1 2 4 4 3 0 4 3 3 3 1 2 3 4 3 1 3 2 4 3 5 3 2 0 1 5 5 1 0 2 3 1 3 3 3 1 2 3 1 2 4 3 1 2 7 1 3 2 2 0 2 3 2 5 2 2 4 1 2 4 2 1 2 4 3 1 2 3 2 5 2 3 1 3 1 1 2 4 5 4 1 3 2 2 1 3 2 3 3 3 2 1 3 1 5 7 3 4 2 4 0 2 4 3 1 3 1 4 1 3 1 2 3 3 3 2 2 1 3 2 3 0 2 1 0 2 \n",
      "C: 0 1 3 5 1 2 3 1 4 1 2 1 1 1 3 1 4 3 1 6 2 2 6 4 0 4 4 2 3 5 3 3 4 1 4 1 6 1 3 1 5 3 3 3 2 0 1 1 1 2 0 2 3 2 3 2 7 5 1 3 1 2 2 5 3 1 2 3 3 3 3 1 3 0 1 2 1 3 3 3 2 5 2 0 1 2 2 1 3 3 2 5 3 2 5 5 1 2 4 2 3 2 2 4 1 3 2 4 4 5 2 4 3 3 1 2 1 0 3 3 2 1 1 3 2 1 1 4 2 2 3 2 6 3 3 3 4 3 2 3 0 4 1 3 3 0 1 2 4 2 2 2 3 4 1 3 2 2 1 4 3 3 2 4 2 2 2 3 3 2 3 3 2 1 1 3 3 2 5 2 1 4 2 3 1 3 3 3 4 3 1 1 2 5 1 4 0 2 3 2 2 1 4 0 4 3 3 1 1 4 1 3 2 2 3 3 5 2 4 2 2 3 3 3 3 4 3 4 2 1 1 4 3 2 2 4 2 4 3 3 2 1 4 2 4 3 1 1 3 0 3 1 4 1 1 4 2 2 2 0 3 3 2 1 3 2 0 3 2 3 1 2 4 2 5 2 4 1 3 4 4 3 1 3 3 2 1 1 1 1 5 4 2 4 4 4 4 1 2 2 3 2 1 2 2 5 2 2 0 2 2 0 2 2 4 3 2 2 1 2 3 3 2 2 1 1 3 3 2 3 2 2 3 3 2 2 5 3 3 4 2 4 2 4 3 5 2 3 3 3 3 2 4 1 6 1 3 4 2 1 1 2 3 2 2 5 0 2 3 2 6 0 1 3 4 4 5 2 2 0 2 3 3 3 2 3 2 2 2 4 2 5 2 5 1 2 0 3 2 1 3 3 2 1 1 2 4 4 3 2 2 3 5 2 2 2 1 3 4 0 2 0 2 3 2 3 2 2 2 5 2 4 1 4 2 2 2 3 3 2 1 1 2 7 2 4 2 4 3 3 4 1 1 2 4 2 0 3 2 3 1 4 3 3 2 4 2 1 2 3 1 2 2 1 5 2 3 2 2 0 1 3 2 2 3 3 3 2 2 5 3 2 3 2 2 2 2 1 2 2 6 4 1 2 3 2 0 2 1 6 3 5 3 3 1 5 2 3 1 2 2 4 2 2 1 2 2 4 4 3 2 2 1 3 1 1 4 0 1 1 1 2 3 3 1 6 1 6 1 3 2 2 4 2 3 0 1 3 2 2 4 1 4 4 1 3 1 1 3 4 3 2 4 0 2 1 1 0 2 4 3 3 3 4 0 3 2 2 2 4 3 1 2 5 2 5 3 3 2 5 3 4 3 2 4 3 2 1 3 4 3 2 4 2 1 2 2 1 3 5 3 2 2 3 3 3 1 4 1 3 3 1 2 2 3 3 4 2 0 3 3 2 2 1 2 1 2 1 2 3 4 5 1 3 4 1 3 4 4 4 1 1 3 1 5 2 4 2 4 1 3 2 0 3 3 4 1 3 1 4 1 3 4 5 1 1 0 1 1 1 0 5 2 2 3 4 2 3 2 3 5 2 2 2 2 3 1 4 3 2 4 5 2 3 2 3 3 3 1 3 4 1 3 2 2 4 1 4 2 2 2 3 1 3 1 6 2 1 2 1 6 3 1 3 4 4 1 4 2 5 2 2 3 2 2 3 3 2 3 0 3 1 2 3 2 4 5 4 0 1 3 3 5 1 2 1 3 3 4 3 4 2 2 2 2 4 1 4 1 3 0 2 3 2 1 4 5 1 0 2 4 3 1 2 2 1 3 3 1 4 1 4 3 5 0 0 0 3 1 1 3 1 3 4 4 6 4 3 4 0 1 0 2 4 1 6 2 4 1 5 2 4 4 1 2 3 5 3 2 1 4 2 2 1 1 1 2 2 1 3 2 1 1 2 2 3 2 3 2 2 1 2 1 0 0 1 2 1 4 2 3 1 1 2 5 4 2 2 2 4 3 4 4 2 2 0 1 2 3 2 1 3 3 4 4 5 3 2 2 3 1 3 2 1 3 1 0 4 2 4 1 2 2 0 3 2 3 2 3 3 1 3 1 1 3 3 1 2 1 3 4 4 4 2 \n",
      "G: 3 2 3 4 1 4 2 4 4 5 1 3 1 3 1 3 4 2 5 2 1 3 3 1 2 2 2 1 4 1 4 1 0 3 4 1 2 4 4 3 4 3 2 2 1 4 4 3 3 0 5 4 3 3 3 0 1 1 4 1 2 4 2 4 2 2 1 1 0 2 3 1 2 6 2 2 1 4 1 1 5 2 2 4 4 5 4 2 1 0 3 1 0 1 2 1 3 3 2 3 5 2 2 3 2 3 4 1 2 2 1 4 3 1 4 2 5 4 2 3 4 3 5 2 3 2 3 2 4 3 3 3 1 3 3 5 4 2 3 2 5 2 5 3 4 4 2 4 1 1 4 4 2 0 5 2 3 2 4 5 3 2 4 2 3 1 2 0 4 3 0 3 1 5 6 2 5 3 2 2 4 3 1 0 3 3 2 4 1 1 3 1 2 2 5 3 2 2 5 3 3 3 1 0 3 2 2 1 2 0 3 3 1 4 4 4 1 4 2 3 3 2 2 3 2 2 3 1 1 7 2 0 2 2 3 4 2 1 4 3 3 2 1 2 1 1 5 1 2 3 3 5 0 3 5 3 3 3 0 0 2 5 1 4 1 1 6 2 3 1 3 4 2 3 0 1 3 3 0 4 2 3 1 1 5 2 4 3 1 4 2 0 3 3 1 0 2 3 3 3 0 3 2 1 1 1 4 6 4 6 2 3 3 4 2 3 2 5 0 2 3 1 2 2 1 4 5 3 0 2 4 3 0 3 4 2 2 4 0 2 3 1 1 4 2 0 1 1 4 1 1 4 0 1 1 5 1 2 4 2 4 3 1 3 3 1 5 4 3 3 1 2 7 1 4 0 2 4 3 4 2 1 2 2 3 3 2 2 3 0 5 1 3 0 2 3 6 2 2 5 1 1 2 1 3 1 2 3 3 4 2 2 2 3 2 6 5 1 3 3 4 3 3 3 2 2 4 3 4 3 4 0 2 1 4 3 1 2 0 2 3 2 2 0 4 3 2 2 2 2 0 4 2 3 5 2 3 2 1 2 3 0 2 4 3 3 2 2 2 3 4 4 1 1 0 1 4 4 4 2 3 2 5 4 1 3 2 1 0 2 4 2 4 0 2 2 3 3 3 2 3 2 2 5 2 4 6 3 6 1 1 4 2 4 1 1 1 3 3 3 4 0 3 4 2 1 4 2 1 2 4 3 5 2 4 3 3 3 4 2 2 2 1 4 2 1 3 1 5 2 1 5 3 2 2 6 2 2 2 2 2 2 1 2 4 1 1 4 1 3 0 2 3 4 2 1 3 6 4 1 2 3 1 2 1 5 0 4 2 3 2 1 2 3 3 1 2 4 1 1 1 3 1 5 2 3 2 3 2 0 5 4 0 2 2 2 3 2 4 2 3 1 3 3 2 0 3 1 0 1 3 5 3 2 1 1 1 2 2 4 1 1 4 5 1 2 2 2 1 1 3 2 2 2 2 1 4 2 0 2 1 1 3 0 3 3 2 4 4 3 4 5 4 4 0 3 2 0 5 0 3 3 2 1 3 4 4 2 2 2 7 1 2 3 4 2 3 1 2 3 3 3 1 1 2 3 3 3 3 0 1 1 2 3 1 6 2 2 3 2 2 6 4 1 1 4 3 3 4 3 5 3 3 3 3 1 2 2 3 2 0 3 2 3 2 0 3 2 0 3 3 5 3 2 2 3 2 2 2 2 4 2 1 3 5 2 3 1 4 4 2 2 2 5 0 3 3 3 3 5 2 2 2 2 3 1 2 0 6 1 3 2 3 1 3 4 1 4 2 1 1 3 2 4 3 3 1 2 5 2 1 2 2 0 4 4 3 4 4 1 1 3 4 2 1 0 3 3 1 1 3 3 3 3 2 2 3 2 2 1 5 4 2 2 2 4 2 1 2 2 2 4 3 3 3 3 4 2 3 2 5 3 1 5 2 3 0 3 2 4 4 0 3 5 5 2 2 3 3 2 4 2 3 5 0 2 2 2 6 1 1 2 3 3 2 4 3 2 1 4 3 3 4 1 2 2 2 4 4 4 3 4 3 0 1 2 3 1 6 3 1 3 3 2 2 2 3 3 4 1 1 3 3 5 1 5 3 0 5 2 1 4 3 5 \n",
      "T: 5 3 3 0 3 3 2 3 1 3 4 2 2 2 2 3 1 4 2 1 2 2 1 2 2 1 1 2 1 3 1 4 4 1 1 3 2 2 1 2 0 1 3 1 2 3 3 3 3 3 1 2 3 5 1 4 1 2 4 4 3 4 4 1 1 3 3 4 5 3 3 5 3 2 4 3 2 2 4 4 1 0 2 2 4 1 2 1 4 3 2 2 3 3 1 3 1 2 3 1 1 3 4 0 1 2 2 2 1 1 5 0 1 3 0 3 3 2 3 1 1 3 2 4 3 3 2 0 2 2 3 1 2 0 3 2 2 5 3 1 3 3 3 2 0 2 3 3 1 2 3 1 4 3 2 2 3 4 3 1 3 3 2 3 0 3 4 3 1 3 4 3 3 2 2 4 1 3 1 1 0 2 6 4 3 1 1 1 2 2 5 2 5 0 0 1 6 4 2 3 2 4 2 6 2 4 2 4 5 3 6 3 2 1 3 1 1 2 3 3 2 2 4 2 3 1 3 3 3 1 3 3 1 3 3 0 3 3 3 2 5 4 1 2 2 2 2 5 3 5 3 1 0 3 3 0 3 2 6 7 2 2 3 2 2 5 0 1 3 3 2 3 1 2 4 1 0 3 3 0 1 2 4 3 0 3 2 3 4 4 1 3 4 2 2 4 2 3 3 3 3 3 4 6 5 2 3 2 3 0 5 3 3 1 1 3 3 2 9 4 3 5 6 4 3 2 1 2 6 3 2 2 3 0 2 4 1 3 1 0 4 3 4 1 3 4 4 0 1 4 4 3 3 2 1 3 2 2 2 3 2 4 4 3 4 1 3 2 1 2 2 6 0 2 0 2 2 0 4 3 4 4 5 2 2 3 4 2 1 2 3 1 2 2 2 3 2 2 2 1 3 3 4 2 3 1 0 3 3 3 2 3 2 4 3 1 1 5 1 4 2 2 3 1 2 4 3 3 3 0 3 3 5 3 4 3 4 2 2 3 2 5 3 2 2 0 3 3 2 1 3 2 2 2 0 1 1 2 4 1 3 4 2 2 5 2 3 3 2 2 2 2 3 5 3 3 3 1 3 5 5 2 2 1 3 3 3 4 3 1 2 1 3 6 4 4 3 2 3 2 0 1 3 2 2 4 3 2 1 1 1 1 3 1 4 3 4 2 2 4 3 2 1 3 3 2 2 0 1 1 2 5 2 3 3 1 2 3 2 3 3 2 3 2 4 1 4 1 2 3 4 2 1 1 4 3 1 4 3 2 1 4 4 2 3 4 4 2 2 3 2 2 2 2 2 4 4 4 3 0 2 1 3 2 7 0 3 1 4 0 1 3 4 0 2 3 2 3 2 2 3 1 3 2 2 3 3 0 0 3 1 2 3 2 1 4 4 3 2 2 2 5 2 2 1 2 5 2 5 2 2 3 3 3 4 6 3 4 4 1 5 2 2 0 5 5 4 4 4 3 0 1 4 3 2 3 1 4 1 1 4 5 3 6 2 3 4 1 0 5 2 3 2 2 3 1 4 2 1 3 2 3 2 2 5 2 3 3 4 2 1 2 4 2 0 1 0 2 2 1 0 0 2 5 5 0 4 2 3 5 3 3 2 3 3 1 3 4 4 4 1 2 2 1 5 0 3 2 1 2 0 2 4 2 3 1 4 5 3 2 2 2 3 2 2 1 3 1 4 2 2 2 1 3 3 3 1 6 3 5 1 6 3 2 2 3 1 3 4 1 3 1 2 1 2 3 3 2 2 0 1 3 3 3 2 2 4 4 1 3 4 3 1 2 2 1 0 2 6 4 4 2 4 1 1 5 4 4 1 2 4 3 2 5 3 5 3 2 4 6 2 2 0 4 1 1 0 1 4 7 3 3 2 2 4 0 1 1 2 1 1 2 3 2 1 2 3 4 3 6 1 1 2 5 4 3 3 4 2 2 2 4 1 2 3 2 6 4 4 1 3 3 4 3 1 6 4 2 1 5 1 3 3 2 3 1 4 1 0 2 5 1 2 4 4 2 1 2 5 1 4 2 2 2 2 0 2 1 2 2 3 2 0 2 3 3 5 1 2 1 4 2 4 5 4 2 3 2 2 4 5 1 3 2 4 1 3 6 1 5 3 1 3 1 \n"
     ]
    }
   ],
   "source": [
    "cons(fasta)"
   ]
  }
 ],
 "metadata": {
  "kernelspec": {
   "display_name": "Python 3 (ipykernel)",
   "language": "python",
   "name": "python3"
  },
  "language_info": {
   "codemirror_mode": {
    "name": "ipython",
    "version": 3
   },
   "file_extension": ".py",
   "mimetype": "text/x-python",
   "name": "python",
   "nbconvert_exporter": "python",
   "pygments_lexer": "ipython3",
   "version": "3.10.9"
  }
 },
 "nbformat": 4,
 "nbformat_minor": 5
}
